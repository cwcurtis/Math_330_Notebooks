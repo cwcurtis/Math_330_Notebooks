{
 "cells": [
  {
   "cell_type": "markdown",
   "metadata": {},
   "source": [
    "## Lecture: 3/11/2020\n",
    "\n",
    "### Core: \n",
    "\n",
    "   + Write Definition 3.9.1\n",
    "   + Write Proposition 3.11.1"
   ]
  },
  {
   "cell_type": "markdown",
   "metadata": {},
   "source": [
    "### Short Problems:\n",
    "\n",
    "   + Proving Prop. 3.11.3\n",
    "     + If we suppose that $\\overline{\\lim}_{n}a_{n}=\\underline{\\lim}_{n}a_{n}=L$, show, using Prop. 3.11.1 that $\\forall       \\epsilon > 0$ $\\exists N_{1}\\in \\mathbb{N}$ such that \n",
    "     $$ a_{n} < L+\\epsilon, ~ \\mbox{for} ~n>N_{1}$$ \n",
    "     and $\\exists N_{2} \\in \\mathbb{N}$ such that \n",
    "     $$ a_{n} > L-\\epsilon, ~\\mbox{for} ~n>N_{2}$$.  \n",
    "     What can you conclude?  \n",
    "     + Now suppose $\\lim_{n\\rightarrow \\infty}a_{n}=L$.  Why must $L = \\overline{\\lim}_{n}a_{n}=\\underline{\\lim}_{n}a_{n}$?\n",
    "     \n",
    "  \n",
    "  + Prove (i.e. provide all rigorous details) that \n",
    "  $$ \\lim_{n\\rightarrow \\infty }\\frac{n^{2}}{n+1} = \\infty $$\n",
    "    \n",
    "  + Prove that \n",
    "  $$ \\lim_{n\\rightarrow \\infty }\\frac{n^{2}}{1-n} = -\\infty $$"
   ]
  },
  {
   "cell_type": "markdown",
   "metadata": {},
   "source": [
    "### Long Problems: \n",
    "   + Show that if $\\lim_{n\\rightarrow \\infty}a_{n}=L>0$ and $\\lim_{n\\rightarrow \\infty}b_{n}=\\infty$ then \n",
    "     $$ \\lim_{n\\rightarrow \\infty}a_{n}b_{n} = \\infty $$. \n",
    "     + Use an $\\epsilon = L/2$ argument to bound $a_{n}$ from above and below.  \n",
    "     + Use Def. 3.9.1 to show that the product $a_{n}b_{n}$ becomes unbounded if $b_{n}$ is.  "
   ]
  },
  {
   "cell_type": "code",
   "execution_count": null,
   "metadata": {},
   "outputs": [],
   "source": []
  }
 ],
 "metadata": {
  "kernelspec": {
   "display_name": "Python 3",
   "language": "python",
   "name": "python3"
  },
  "language_info": {
   "codemirror_mode": {
    "name": "ipython",
    "version": 3
   },
   "file_extension": ".py",
   "mimetype": "text/x-python",
   "name": "python",
   "nbconvert_exporter": "python",
   "pygments_lexer": "ipython3",
   "version": "3.7.1"
  }
 },
 "nbformat": 4,
 "nbformat_minor": 2
}

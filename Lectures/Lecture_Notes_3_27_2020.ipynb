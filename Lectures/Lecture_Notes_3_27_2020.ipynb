{
 "cells": [
  {
   "cell_type": "markdown",
   "metadata": {},
   "source": [
    "## Lecture Notes for 3/27/2020"
   ]
  },
  {
   "cell_type": "markdown",
   "metadata": {},
   "source": [
    "### Short Problems\n",
    "\n",
    "+ Show that $f(x)=\\sqrt{x}$ is continuous for $x\\geq 0$.  \n",
    "    + For $x_{0}\\gt 0$, we note that \n",
    "    \\begin{align*}\n",
    "    \\left|\\sqrt{x}-\\sqrt{x_{0}}\\right| = & \\left|\\left(\\sqrt{x}-\\sqrt{x_{0}}\\right)\\frac{\\sqrt{x}+\\sqrt{x_{0}}}{\\sqrt{x}+\\sqrt{x_{0}}}\\right|\\\\\n",
    "    = & \\frac{\\left|x-x_{0}\\right|}{\\sqrt{x}+\\sqrt{x_{0}}}.\n",
    "    \\end{align*}\n",
    "    Using this, prove $f(x)=\\sqrt{x}$ is continuous for $x\\gt 0$.  \n",
    "    + For $x_{0}=0$, we note that \n",
    "    $$\n",
    "    \\left|\\sqrt{x}\\right|\\lt \\epsilon\n",
    "    $$\n",
    "    is almost the answer.  Complete the proof.  "
   ]
  },
  {
   "cell_type": "markdown",
   "metadata": {},
   "source": [
    "### Long Problems \n",
    "(Carried over from 3/25/20) Given the inequality \n",
    "$$\n",
    "1 - \\frac{x^{2}}{2} \\lt \\cos(x) \\lt 1, ~ x \\in [0,\\frac{\\pi}{2})\n",
    "$$\n",
    "the identity\n",
    "$$\n",
    "\\sin^{2}(x) + \\cos^{2}(x) = 1,\n",
    "$$\n",
    "and the addition formulas\n",
    "\\begin{align*}\n",
    "\\sin(x\\pm y) = & \\sin(x)\\cos(y)\\pm \\cos(x)\\sin(y),\\\\\n",
    "\\cos(x\\pm y) = & \\cos(x)\\cos(y)\\mp \\sin(x)\\sin(y)\n",
    "\\end{align*}\n",
    "Prove that \n",
    "+ $\\lim_{x\\rightarrow 0^{+}}\\cos(x) = 1$\n",
    "+ $\\lim_{x\\rightarrow 0^{+}}\\sin(x) = 0$\n",
    "+ $\\cos(x)$ and $\\sin(x)$ are continuous for all $x\\in [0,\\frac{\\pi}{2})$."
   ]
  },
  {
   "cell_type": "code",
   "execution_count": null,
   "metadata": {},
   "outputs": [],
   "source": []
  }
 ],
 "metadata": {
  "kernelspec": {
   "display_name": "Python 3",
   "language": "python",
   "name": "python3"
  },
  "language_info": {
   "codemirror_mode": {
    "name": "ipython",
    "version": 3
   },
   "file_extension": ".py",
   "mimetype": "text/x-python",
   "name": "python",
   "nbconvert_exporter": "python",
   "pygments_lexer": "ipython3",
   "version": "3.7.6"
  }
 },
 "nbformat": 4,
 "nbformat_minor": 2
}

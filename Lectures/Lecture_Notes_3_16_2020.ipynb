{
 "cells": [
  {
   "cell_type": "markdown",
   "metadata": {},
   "source": [
    "## Lecture Notes for 3/16/2020"
   ]
  },
  {
   "cell_type": "markdown",
   "metadata": {},
   "source": [
    "### Core\n",
    "\n",
    "+ Write Definition 4.1.1\n",
    "+ Write Definition 5.1.1"
   ]
  },
  {
   "cell_type": "markdown",
   "metadata": {},
   "source": [
    "### Short Problems\n",
    "\n",
    "+ Show that $\\lim_{x\\rightarrow 2} 4(x+3)=20$\n",
    "    + Show \n",
    "    $$\n",
    "    \\left|4(x+3)-20 \\right| = 4\\left|x-2\\right|\n",
    "    $$\n",
    "    + Now we let \n",
    "    $$\n",
    "    4\\left|x-2\\right| \\lt \\epsilon\n",
    "    $$\n",
    "    What is $\\delta$?  Write out the completion of the proof, i.e. the \"bow-tie\".\n",
    "    \n",
    "+ Show that $\\lim_{x\\rightarrow 4}\\frac{x-3}{x+2} = \\frac{1}{6}$\n",
    "    + Show (note, $x=x-4+4$)\n",
    "    $$\n",
    "    \\left|\\frac{x-3}{x+2} - \\frac{1}{6} \\right| =  \\frac{5}{6}\\left|\\frac{x-4}{x-4+6} \\right|\n",
    "    $$\n",
    "    + Now since we know that $x\\rightarrow 4$, we focus our attention on the region $|x-4|\\lt 1$.  Show using the reverse triangle inequality that on this region we have that \n",
    "    $$\n",
    "    \\frac{5}{6}\\left|\\frac{x-4}{x-4+6} \\right| \\leq \\frac{|x-4|}{6} \\lt \\frac{1}{6}.\n",
    "    $$\n",
    "    + Again for $|x-4| \\lt 1$, we can now also write  \n",
    "    $$\n",
    "    \\frac{5}{6}\\left|\\frac{x-4}{x-4+6} \\right| \\leq \\frac{|x-4|}{6} \\lt \\epsilon.  \n",
    "    $$\n",
    "    If $\\epsilon \\lt 1/6$, what should $\\delta$ be?  If $\\epsilon \\geq 1/6$, what should $\\delta$ be?  How can I combine these different choices of $\\delta$ into one mathematical expression?  Hint, you will need to use $\\delta = \\min(\\mbox{one value}, \\mbox{another value})$."
   ]
  },
  {
   "cell_type": "code",
   "execution_count": null,
   "metadata": {},
   "outputs": [],
   "source": []
  }
 ],
 "metadata": {
  "kernelspec": {
   "display_name": "Python 3",
   "language": "python",
   "name": "python3"
  },
  "language_info": {
   "codemirror_mode": {
    "name": "ipython",
    "version": 3
   },
   "file_extension": ".py",
   "mimetype": "text/x-python",
   "name": "python",
   "nbconvert_exporter": "python",
   "pygments_lexer": "ipython3",
   "version": "3.7.3"
  }
 },
 "nbformat": 4,
 "nbformat_minor": 2
}

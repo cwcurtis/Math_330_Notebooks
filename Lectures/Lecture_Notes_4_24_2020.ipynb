{
 "cells": [
  {
   "cell_type": "markdown",
   "metadata": {},
   "source": [
    "## Lecture Notes for 4/24/2020"
   ]
  },
  {
   "cell_type": "markdown",
   "metadata": {},
   "source": [
    "### Core\n",
    "* Write Definition 4.0.1 from page 47.\n",
    "\n",
    "* From the Lecture Notes for 4/20, just make sure Caratheodory's Theorem is handy.  No need to write it again.  \n",
    "\n",
    "* Throughout these notes, we suppose that $f(x)$ is continuous and strictly monotone on an interval $I$.  Thus $f(x)$ is either strictly increasing or decreasing.  \n",
    "\n",
    "* We define the inverse of $f(x)$ on $I$ to be the function $f^{-1}(x)$ defined by the relationship \n",
    "$$\n",
    "f^{-1}\\left(f(x)\\right) = x, ~x\\in I.  \n",
    "$$\n",
    "Letting $J=f(I)$, (note, continous functions map intervals to intervals.  See Corollary 5.4.3), we have the equivalent relationship \n",
    "$$\n",
    "f\\left(f^{-1}(y)\\right) = y, ~y\\in I.  \n",
    "$$\n",
    "\n"
   ]
  },
  {
   "cell_type": "markdown",
   "metadata": {},
   "source": [
    "### Short Problems\n",
    "\n",
    "* If $g(x)=x^{2}-1$, on which intervals can we find a well defined inverse to this function?  On said intervals, find $g^{-1}(x)$.  \n",
    "\n",
    "\n",
    "* Show that since we assume $f(x)$ is monotone and continuous on $I$, then $f^{-1}(x)$ is monotone and continuous on $J$."
   ]
  },
  {
   "cell_type": "markdown",
   "metadata": {},
   "source": [
    "### Long Problems \n",
    "\n",
    "We are going to prove the _Inverse Function Theorem_ , i.e.\n",
    "> **Inverse Function Theorem**: Let $I$ be an interval in $\\mathbb{R}$ and let $f:I\\rightarrow \\mathbb{R}$ be strictly monotone and continuous on $I$.  Let $J=f(I)\\subset \\mathbb{R}$, and let $f^{-1}:J\\rightarrow I$ be the strictly monotone and continuous inverse of $f$.  If $f$ is differentiable at $c$ and $f'(c)\\neq 0$, then $f^{-1}(x)$ is differentiable at $f(c)$ and \n",
    "$$\n",
    "\\left.\\frac{d}{dx}f^{-1}\\left(x\\right)\\right|_{x=f(c)} = \\frac{1}{f'(c)}.\n",
    "$$\n",
    "\n",
    "* Using Caratheodory's Theorem, show that there exists a function $\\phi(x)$, continuous at $c$, such that \n",
    "$$\n",
    "f(x) - f(c) = \\phi(x)(x-c),\n",
    "$$\n",
    "and $\\phi(c)=f'(c)\\neq 0$.\n",
    "\n",
    "* Given that $\\phi(x)$ is continuous at $c$ and that $\\phi(c)\\neq 0$, show that there exists a neighborhood $V\\subset I$, $c\\in V$, such that $\\phi(x)\\neq 0$ for $x\\in U$.  \n",
    "\n",
    "* Letting $U = f(V)$, use Caratheodory's Theorem to show that \n",
    "$$\n",
    "y - f(c) = f(f^{-1}(y)) - f(c) = \\phi(f^{-1}(y))\\left(f^{-1}(y)-f^{-1}(f(c)) \\right), ~ y \\in U.\n",
    "$$\n",
    "\n",
    "* Using this, show that \n",
    "$$\n",
    "\\frac{f^{-1}(y)-f^{-1}(f(c))}{y-f(c)} = \\frac{1}{\\phi(f^{-1}(y))}, ~ y \\in U, \n",
    "$$\n",
    "take a limit, and then complete the proof.  "
   ]
  },
  {
   "cell_type": "code",
   "execution_count": null,
   "metadata": {},
   "outputs": [],
   "source": []
  }
 ],
 "metadata": {
  "kernelspec": {
   "display_name": "Python 3",
   "language": "python",
   "name": "python3"
  },
  "language_info": {
   "codemirror_mode": {
    "name": "ipython",
    "version": 3
   },
   "file_extension": ".py",
   "mimetype": "text/x-python",
   "name": "python",
   "nbconvert_exporter": "python",
   "pygments_lexer": "ipython3",
   "version": "3.7.6"
  }
 },
 "nbformat": 4,
 "nbformat_minor": 2
}

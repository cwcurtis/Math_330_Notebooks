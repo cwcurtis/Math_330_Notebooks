{
 "cells": [
  {
   "cell_type": "markdown",
   "metadata": {},
   "source": [
    "## Lecture Notes for 4/8/2020"
   ]
  },
  {
   "cell_type": "markdown",
   "metadata": {},
   "source": [
    "### Core\n",
    "* Write Definition 5.3.1\n",
    "* By uniform continuity, we roughly mean that we can find an $\\epsilon$ bound with no $x_{0}$.  See the short problems below to see what I mean.  "
   ]
  },
  {
   "cell_type": "markdown",
   "metadata": {},
   "source": [
    "### Short Problems\n",
    "* Show that $f(x)=1/x$ is uniformly continuous on $x\\in[1/2,\\infty)$.\n",
    "     * Note, when we are bounding \n",
    "     $$ \n",
    "     \\left|\\frac{1}{x} - \\frac{1}{x_{0}}\\right| = \\frac{\\left|x-x_{0}\\right|}{\\left|x\\right|\\left|x_{0}\\right|}\n",
    "     $$\n",
    "     we assume $x,x_{0}\\in [1/2,\\infty)$, so $x,x_{0}\\geq 1/2$, so that \n",
    "     $$\n",
    "     \\frac{1}{|x||x_{0}|}\\leq 4.\n",
    "     $$\n",
    "     This is the key step in proving that the function is uniformly continuous over the given interval.  \n",
    "* Describe an interval over which $f(x)=1/x$ is _not_ uniformly continuous.  Hint, think about where $f(x)$ is discontinuous.  \n",
    "\n",
    "* Show that $f(x)=1/(1+x^{2})$ is uniformly continuous for $x\\in\\mathbb{R}$.  Hint, you will need to use\n",
    "$$\n",
    "\\frac{|x|}{1+x^{2}} \\leq \\frac{1}{2}. \n",
    "$$\n"
   ]
  },
  {
   "cell_type": "markdown",
   "metadata": {},
   "source": [
    "### Long Problems \n",
    "* (Carried over from 4/6/20) Let $\\left\\{a_{n}\\right\\}_{n=1}^{\\infty}$ be a bounded sequence.  Let \n",
    "$$\n",
    "s_{n} = \\inf_{k\\geq n} a_{k},\n",
    "$$\n",
    "and let $S=\\sup_{n\\geq 1}s_{n}$.  Show that there is a subsequence of $a_{n}$ which converges to $S$.  Prove this two ways.  \n",
    "    * In the first proof, show $s_{n}$ is bounded and increasing.  Proceed to show that $S$ is a cluster point of the original sequence.  \n",
    "    * In the second proof, use the fact that $\\forall \\epsilon \\gt 0$, $\\exists K \\geq n$ such that $a_{K} \\lt s_{n} + \\epsilon$.  Likewise, you will need to use the fact that $\\forall \\epsilon \\gt 0$, $\\exists N \\in \\mathbb{N}$ such that $S \\lt s_{N} + \\epsilon$."
   ]
  },
  {
   "cell_type": "code",
   "execution_count": null,
   "metadata": {},
   "outputs": [],
   "source": []
  }
 ],
 "metadata": {
  "kernelspec": {
   "display_name": "Python 3",
   "language": "python",
   "name": "python3"
  },
  "language_info": {
   "codemirror_mode": {
    "name": "ipython",
    "version": 3
   },
   "file_extension": ".py",
   "mimetype": "text/x-python",
   "name": "python",
   "nbconvert_exporter": "python",
   "pygments_lexer": "ipython3",
   "version": "3.7.6"
  }
 },
 "nbformat": 4,
 "nbformat_minor": 2
}

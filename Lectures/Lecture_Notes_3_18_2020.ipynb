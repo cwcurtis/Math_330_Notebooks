{
 "cells": [
  {
   "cell_type": "markdown",
   "metadata": {},
   "source": [
    "## Lecture Notes for 3/18/2020"
   ]
  },
  {
   "cell_type": "markdown",
   "metadata": {},
   "source": [
    "### Core\n",
    "\n",
    "+ Write Theorem 4.1.1\n",
    "    + In a few words, what do you think this Theorem means?  "
   ]
  },
  {
   "cell_type": "markdown",
   "metadata": {},
   "source": [
    "### Short Problems\n",
    "\n",
    "+ Let the sequence $\\{a_n\\}=\\{r^n\\cos(\\pi n)\\}$. Find $\\varlimsup a_n$ and $\\varliminf a_n$ regarding the value of $r$.\n",
    "   \n",
    "+ Show that the sequence $a_{n} = \\frac{2}{1+6n}, ~ n\\geq 1$ is a Cauchy sequence using the formal definition.  "
   ]
  },
  {
   "cell_type": "markdown",
   "metadata": {},
   "source": [
    "### Long Problems\n",
    "\n",
    "Proof of Theorem 4.1.1\n",
    "+ From the left, i.e. we assume $\\lim_{x\\rightarrow x_{0}}f(x)=L$ and there is a sequence $\\left\\{x_{n}\\right\\}_{n=1}^{\\infty}$ such that $\\lim_{n\\rightarrow \\infty}x_{n} = x_{0}$.  \n",
    "     + How can we use $\\lim_{n\\rightarrow \\infty}x_{n} = x_{0}$ to get control on the difference $\\left|x_{n}-x_{0}\\right|$ for $n\\gt N$, where $N$ is an appropriately chosen threshhold?  \n",
    "     + Using the above, how can we use $\\lim_{x\\rightarrow x_{0}}f(x)=L$ to control the difference $\\left|f(x_{n})-L \\right|$?\n",
    "     + What can you conclude?\n",
    "     \n",
    "+ From the right, i.e. we assume for any sequence $\\left\\{x_{n}\\right\\}_{n=1}^{\\infty}$ such that $\\lim_{n\\rightarrow \\infty}x_{n} = x_{0}$, that necessarily $\\lim_{n\\rightarrow\\infty}f(x_{n})=L$.  \n",
    "    + Suppose by contradiction that $\\lim_{x\\rightarrow x_{0}} f(x) \\neq L$.  How would you write this contradiction?  \n",
    "    + What would this imply about all of the converging sequences?\n",
    "    + What can you conclude?\n"
   ]
  },
  {
   "cell_type": "code",
   "execution_count": null,
   "metadata": {},
   "outputs": [],
   "source": []
  }
 ],
 "metadata": {
  "kernelspec": {
   "display_name": "Python 3",
   "language": "python",
   "name": "python3"
  },
  "language_info": {
   "codemirror_mode": {
    "name": "ipython",
    "version": 3
   },
   "file_extension": ".py",
   "mimetype": "text/x-python",
   "name": "python",
   "nbconvert_exporter": "python",
   "pygments_lexer": "ipython3",
   "version": "3.7.3"
  }
 },
 "nbformat": 4,
 "nbformat_minor": 2
}

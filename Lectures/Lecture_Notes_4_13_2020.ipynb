{
 "cells": [
  {
   "cell_type": "markdown",
   "metadata": {},
   "source": [
    "## Lecture Notes for 4/13/2020"
   ]
  },
  {
   "cell_type": "markdown",
   "metadata": {},
   "source": [
    "### Core\n",
    "* Write Theorem 3.10.3\n",
    "* Write Theorem 4.1.1/5.2.1\n",
    "* Write Theorem 5.4.1"
   ]
  },
  {
   "cell_type": "markdown",
   "metadata": {},
   "source": [
    "### Short Problems\n",
    "* Prove Theorem 5.3.8\n",
    "* If a function $f(x)$ is unbounded on an interval $[a,b]$, show that: $\\forall n\\in \\mathbb{N}, ~ \\exists x_{n}\\in [a,b], ~ \\left|f(x_{n})\\right|\\geq n$. \n",
    "* Suppose that $f(x)$ is continuous on $[a,b]$.  Using Theorem 3.10.3, and the result above, show that $f(x)$ is bounded on $[a,b]$."
   ]
  },
  {
   "cell_type": "markdown",
   "metadata": {},
   "source": [
    "### Long Problems \n",
    "* For $f(x)$ continuous on $[a,b]$, let \n",
    "$$\n",
    "M = \\sup\\left\\{f(x): x\\in [a,b]\\right\\}, ~ m = \\inf\\left\\{f(x): x\\in [a,b]\\right\\}.\n",
    "$$\n",
    "Prove that $\\exists x_{M},x_{m}\\in[a,b]$ such that $f(x_{M})=M$ and $f(x_{m})=m$.  We do this by contradiction.  \n",
    "    * For $M$, we first suppose that $f(x)\\lt M$ $\\forall x \\in [a,b]$.  Using the result from the short problem, what could you then say about the function $g(x) = \\frac{1}{M-f(x)}$.  \n",
    "    * Where is the contradiction?  \n",
    "    * For $m$, we first suppose that ... how far can you get using the proof from the first part?  \n",
    "    "
   ]
  },
  {
   "cell_type": "code",
   "execution_count": null,
   "metadata": {},
   "outputs": [],
   "source": []
  }
 ],
 "metadata": {
  "kernelspec": {
   "display_name": "Python 3",
   "language": "python",
   "name": "python3"
  },
  "language_info": {
   "codemirror_mode": {
    "name": "ipython",
    "version": 3
   },
   "file_extension": ".py",
   "mimetype": "text/x-python",
   "name": "python",
   "nbconvert_exporter": "python",
   "pygments_lexer": "ipython3",
   "version": "3.7.6"
  }
 },
 "nbformat": 4,
 "nbformat_minor": 2
}

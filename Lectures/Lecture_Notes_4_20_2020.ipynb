{
 "cells": [
  {
   "cell_type": "markdown",
   "metadata": {},
   "source": [
    "## Lecture Notes for 4/20/2020"
   ]
  },
  {
   "cell_type": "markdown",
   "metadata": {},
   "source": [
    "### Core\n",
    "* Write Prop. 6.1.1.  \n",
    "* Write Def. 6.4.1"
   ]
  },
  {
   "cell_type": "markdown",
   "metadata": {},
   "source": [
    "### Short Problems\n",
    "We are going to prove _Caratheodory's Theorem_.  \n",
    "> **Caratheodory's Theorem**: Let $f(x)$ be defined on an interval $I$ containing the point $c$.  Then $f$ is differentiable at $c$ if and only if there exists a function $\\phi(x)$ defined on $I$ that is continuous at $c$ and satisfies \n",
    "$$\n",
    "f(x) - f(c) = \\phi(x)(x-c).\n",
    "$$\n",
    "\n",
    "* _From the Left_ : Suppose that $f'(c)$ exists.  Prove the rest of the implication using \n",
    "$$\n",
    "\\phi(x) = \\left\\{\\begin{array}{rl} \\frac{f(x)-f(c)}{x-c} & x\\neq c \\\\ f'(c) & x=c \\end{array}\\right.\n",
    "$$\n",
    "\n",
    "* _From the Right_ :  Suppose that there is a function $\\phi(x)$ continuous at $c$ such that \n",
    "$$\n",
    "f(x) - f(c) = \\phi(x)(x-c).\n",
    "$$\n",
    "Prove that $f'(c)$ exists.  "
   ]
  },
  {
   "cell_type": "markdown",
   "metadata": {},
   "source": [
    "### Long Problems \n",
    "\n",
    "* Show that $\\frac{d}{dx}x^{n} = nx^{n-1}$ for all $n\\in \\mathbb{Z}$.  Note, you will need the Binomial Theorem, where for $n\\in \\mathbb{N}$, we have  \n",
    "$$\n",
    "\\left(x + h\\right)^{n} = \\sum_{l=0}^{n}\\begin{pmatrix}n \\\\ l\\end{pmatrix}x^{n-l}h^{l}, ~ \\begin{pmatrix}n \\\\ l\\end{pmatrix} = \\frac{n!}{l!(n-l)!}.\n",
    "$$\n",
    "Note, \n",
    "$$\n",
    "\\begin{pmatrix}n \\\\ 0\\end{pmatrix} = \\begin{pmatrix}n \\\\ n\\end{pmatrix} = 1,  \\begin{pmatrix}n \\\\ 1\\end{pmatrix} = \\begin{pmatrix}n \\\\ n-1\\end{pmatrix} = n.\n",
    "$$\n",
    "Then you need to prove three cases.  \n",
    "    * $n\\gt0$\n",
    "    * $n\\lt0$\n",
    "    * $n=0$"
   ]
  },
  {
   "cell_type": "code",
   "execution_count": null,
   "metadata": {},
   "outputs": [],
   "source": []
  }
 ],
 "metadata": {
  "kernelspec": {
   "display_name": "Python 3",
   "language": "python",
   "name": "python3"
  },
  "language_info": {
   "codemirror_mode": {
    "name": "ipython",
    "version": 3
   },
   "file_extension": ".py",
   "mimetype": "text/x-python",
   "name": "python",
   "nbconvert_exporter": "python",
   "pygments_lexer": "ipython3",
   "version": "3.7.6"
  }
 },
 "nbformat": 4,
 "nbformat_minor": 2
}

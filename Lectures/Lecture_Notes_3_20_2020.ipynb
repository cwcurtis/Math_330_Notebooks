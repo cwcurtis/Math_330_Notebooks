{
 "cells": [
  {
   "cell_type": "markdown",
   "metadata": {},
   "source": [
    "## Lecture Notes for 3/20/2020"
   ]
  },
  {
   "cell_type": "markdown",
   "metadata": {},
   "source": [
    "### Core\n",
    "\n",
    "+ Write the first, second, and third parts of Definition 4.2.1\n",
    "+ Write down the remark, R, just below Definition 4.2.1"
   ]
  },
  {
   "cell_type": "markdown",
   "metadata": {},
   "source": [
    "### Short Problems\n",
    "\n",
    "+ Show that $\\lim_{x\\rightarrow 2^{+}}\\frac{1}{(x+3)(x-2)}=\\infty$\n",
    "    + Again, we need to make use of focusing on the region $\\left|x-2\\right|\\lt 1$, but $x\\rightarrow 2^{+}$. Where does this force $x$ to be?  \n",
    "    + Bound $1/(x+3)$ on the interval found above.  \n",
    "    + Complete the proof according to the defintion.  Again, you will need that quirky $\\delta = \\min()$ construct.  \n",
    "+ Show that $\\lim_{x\\rightarrow 2^{-}}\\frac{1}{(x+3)(x-2)}=-\\infty$\n",
    "    + Multiply by $-1$ as in the remark R from the Core.    \n",
    "    + Again, we want to restrict to $\\left|x-2 \\right|<1$, but $x\\rightarrow 2^{-}$. Where does this force $x$ to be?\n",
    "    + Bound $1/(x+3)$ on the interval found from above.  \n",
    "    + Complete the proof according to the defintion.  Again, you will need that quirky $\\delta = \\min()$ construct."
   ]
  },
  {
   "cell_type": "markdown",
   "metadata": {},
   "source": [
    "### Long Problems\n",
    "(Carried over from 3/18/2020)\n",
    "\n",
    "Proof of Theorem 4.1.1\n",
    "+ From the left, i.e. we assume $\\lim_{x\\rightarrow x_{0}}f(x)=L$ and there is a sequence $\\left\\{x_{n}\\right\\}_{n=1}^{\\infty}$ such that $\\lim_{n\\rightarrow \\infty}x_{n} = x_{0}$.  \n",
    "     + How can we use $\\lim_{n\\rightarrow \\infty}x_{n} = x_{0}$ to get control on the difference $\\left|x_{n}-x_{0}\\right|$ for $n\\gt N$, where $N$ is an appropriately chosen threshhold?  \n",
    "     + Using the above, how can we use $\\lim_{x\\rightarrow x_{0}}f(x)=L$ to control the difference $\\left|f(x_{n})-L \\right|$?\n",
    "     + What can you conclude?\n",
    "     \n",
    "+ From the right, i.e. we assume for any sequence $\\left\\{x_{n}\\right\\}_{n=1}^{\\infty}$ such that $\\lim_{n\\rightarrow \\infty}x_{n} = x_{0}$, that necessarily $\\lim_{n\\rightarrow\\infty}f(x_{n})=L$.  \n",
    "    + Suppose by contradiction that $\\lim_{x\\rightarrow x_{0}} f(x) \\neq L$.  How would you write this contradiction?  \n",
    "    + What would this imply about all of the converging sequences?\n",
    "    + What can you conclude?\n"
   ]
  },
  {
   "cell_type": "code",
   "execution_count": null,
   "metadata": {},
   "outputs": [],
   "source": []
  }
 ],
 "metadata": {
  "kernelspec": {
   "display_name": "Python 3",
   "language": "python",
   "name": "python3"
  },
  "language_info": {
   "codemirror_mode": {
    "name": "ipython",
    "version": 3
   },
   "file_extension": ".py",
   "mimetype": "text/x-python",
   "name": "python",
   "nbconvert_exporter": "python",
   "pygments_lexer": "ipython3",
   "version": "3.7.6"
  }
 },
 "nbformat": 4,
 "nbformat_minor": 2
}

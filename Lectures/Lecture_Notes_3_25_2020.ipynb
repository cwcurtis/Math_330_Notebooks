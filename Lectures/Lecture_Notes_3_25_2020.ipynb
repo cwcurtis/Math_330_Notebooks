{
 "cells": [
  {
   "cell_type": "markdown",
   "metadata": {},
   "source": [
    "## Lecture Notes for 3/25/2020"
   ]
  },
  {
   "cell_type": "markdown",
   "metadata": {},
   "source": [
    "### Core\n",
    "\n",
    "+ Revisit Definition 5.1.1\n",
    "+ Write Definition 5.1.2"
   ]
  },
  {
   "cell_type": "markdown",
   "metadata": {},
   "source": [
    "### Short Problems\n",
    "\n",
    "+ Show that $f(x)=x^{2}$ is continuous for all $x\\in\\mathbb{R}$.  Note, we are trying to prove that for any $x_{0}\\in\\mathbb{R}$, we have \n",
    "$$\n",
    "\\lim_{x\\rightarrow x_{0}}x^{2} = x^{2}_{0}.\n",
    "$$\n",
    "    + Show that on the interval $|x-x_{0}|\\lt 1$ that $\\left|x^{2}-x_{0}^{2}\\right| \\lt \\left(1+2|x_{0}|\\right)\\left|x-x_{0}\\right|$.\n",
    "    + By introducing $\\epsilon\\gt 0$, identify the appropriate $\\delta\\gt 0$ and complete the proof.  Again, you'll need that quirky $\\delta = \\min()$ construction."
   ]
  },
  {
   "cell_type": "markdown",
   "metadata": {},
   "source": [
    "### Long Problems\n",
    "Given the inequality \n",
    "$$\n",
    "1 - \\frac{x^{2}}{2} \\lt \\cos(x) \\lt 1, ~ x \\in [0,\\frac{\\pi}{2})\n",
    "$$\n",
    "the identity\n",
    "$$\n",
    "\\sin^{2}(x) + \\cos^{2}(x) = 1,\n",
    "$$\n",
    "and the addition formulas\n",
    "\\begin{align*}\n",
    "\\sin(x\\pm y) = & \\sin(x)\\cos(y)\\pm \\cos(x)\\sin(y),\\\\\n",
    "\\cos(x\\pm y) = & \\cos(x)\\cos(y)\\mp \\sin(x)\\sin(y)\n",
    "\\end{align*}\n",
    "Prove that \n",
    "+ $\\lim_{x\\rightarrow 0^{+}}\\cos(x) = 1$\n",
    "+ $\\lim_{x\\rightarrow 0^{+}}\\sin(x) = 0$\n",
    "+ $\\cos(x)$ and $\\sin(x)$ are continuous for all $x\\in [0,\\frac{\\pi}{2})$."
   ]
  },
  {
   "cell_type": "code",
   "execution_count": null,
   "metadata": {},
   "outputs": [],
   "source": []
  }
 ],
 "metadata": {
  "kernelspec": {
   "display_name": "Python 3",
   "language": "python",
   "name": "python3"
  },
  "language_info": {
   "codemirror_mode": {
    "name": "ipython",
    "version": 3
   },
   "file_extension": ".py",
   "mimetype": "text/x-python",
   "name": "python",
   "nbconvert_exporter": "python",
   "pygments_lexer": "ipython3",
   "version": "3.7.6"
  }
 },
 "nbformat": 4,
 "nbformat_minor": 2
}

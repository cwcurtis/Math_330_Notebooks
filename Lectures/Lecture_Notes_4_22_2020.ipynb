{
 "cells": [
  {
   "cell_type": "markdown",
   "metadata": {},
   "source": [
    "## Lecture Notes for 4/22/2020"
   ]
  },
  {
   "cell_type": "markdown",
   "metadata": {},
   "source": [
    "### Core\n",
    "* From the Lecture Notes for 4/20, write Caratheodory's Theorem.  "
   ]
  },
  {
   "cell_type": "markdown",
   "metadata": {},
   "source": [
    "### Short Problems\n",
    "We are going to prove the Chain Rule, i.e.\n",
    "> **Chain Rule**: Suppose $g(x)$ is differentiable at $x_{0}$ and $f(x)$ is differentiable at $g(x_{0})$.  Then $f(g(x))$ is differentiable at $x_{0}$ and \n",
    "$$\n",
    "\\left.\\frac{d}{dx}f(g(x))\\right|_{x=x_{0}} = f'(g(x_{0}))g'(x_{0})\n",
    "$$\n",
    "\n",
    "* Using Caratheodory's Theorem, show that there exists a function $\\phi(x)$, continuous at $x_{0}$, such that \n",
    "$$\n",
    "g(x) - g(x_{0}) = \\phi(x)(x-x_{0}),\n",
    "$$\n",
    "and $\\phi(x_{0})=g'(x_{0})$.\n",
    "\n",
    "* Using Caratheodory's Theorem, show that there exists a function $\\psi(u)$, continuous at $g(x_{0})$, such that \n",
    "$$\n",
    "f(u) - f(g(x_{0})) = \\psi(u)(u-g(x_{0})).\n",
    "$$\n",
    "and $\\psi(g(x_{0})) = f'(g(x_{0}))$.\n",
    "\n",
    "* By letting $u=g(x)$, show that the two identities above can be combined into \n",
    "$$\n",
    "f(g(x)) - f(g(x_{0})) = \\psi(g(x))\\phi(x)(x-x_{0}).\n",
    "$$\n",
    "From this, and the properties from above, prove the Chain Rule.  "
   ]
  },
  {
   "cell_type": "markdown",
   "metadata": {},
   "source": [
    "### Long Problems \n",
    "\n",
    "* Prove the product rule \n",
    "$$\n",
    "\\frac{d}{dx}\\left(f(x)g(x) \\right) = g(x)\\frac{df}{dx} + f(x)\\frac{dg}{dx}.\n",
    "$$\n",
    "\n",
    "* Prove the quotient rule \n",
    "$$\n",
    "\\frac{d}{dx}\\left(\\frac{f(x)}{g(x)} \\right) = \\frac{\\left(g(x)\\frac{df}{dx} - f(x)\\frac{dg}{dx}\\right)}{g^{2}(x)}.\n",
    "$$\n"
   ]
  },
  {
   "cell_type": "code",
   "execution_count": null,
   "metadata": {},
   "outputs": [],
   "source": []
  }
 ],
 "metadata": {
  "kernelspec": {
   "display_name": "Python 3",
   "language": "python",
   "name": "python3"
  },
  "language_info": {
   "codemirror_mode": {
    "name": "ipython",
    "version": 3
   },
   "file_extension": ".py",
   "mimetype": "text/x-python",
   "name": "python",
   "nbconvert_exporter": "python",
   "pygments_lexer": "ipython3",
   "version": "3.7.6"
  }
 },
 "nbformat": 4,
 "nbformat_minor": 2
}

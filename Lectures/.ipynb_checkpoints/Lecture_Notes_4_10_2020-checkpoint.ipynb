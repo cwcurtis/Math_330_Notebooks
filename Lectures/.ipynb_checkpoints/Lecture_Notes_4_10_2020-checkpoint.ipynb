{
 "cells": [
  {
   "cell_type": "markdown",
   "metadata": {},
   "source": [
    "## Lecture Notes for 4/10/2020"
   ]
  },
  {
   "cell_type": "markdown",
   "metadata": {},
   "source": [
    "### Core\n",
    "* None, today is a problem day.  "
   ]
  },
  {
   "cell_type": "markdown",
   "metadata": {},
   "source": [
    "### Short Problems\n",
    "* Show that if $g(x)$ is continuous at $x_{0}$ that there must be a $\\delta \\gt 0$ such that if $|x-x_{0}|\\lt\\delta$, then $\\left| g(x)-g(x_{0})\\right|\\lt |g(x_{0})|/2$.  This idea was needed at several points in Homework 9.  \n",
    "* Show that if $g(x)$ is continuous at $x_{0}$ and $g(x_{0})\\neq 0$ then $1/g(x)$ is continuous at $x_{0}$, i.e. you need to show \n",
    "$$\n",
    "\\lim_{x\\rightarrow x_{0}}\\frac{1}{g(x)} = \\frac{1}{g(x_{0})}.\n",
    "$$\n",
    "Note, you will really need to use the previous short problem.  In particular, you will need to use it when you try to bound\n",
    "$$\n",
    "\\frac{1}{|g(x)|} = \\frac{1}{\\left|g(x)-g(x_{0}) + g(x_{0})\\right|}\\leq \\frac{1}{\\left|\\left|g(x_{0})\\right|-\\left|g(x)-g(x_{0})\\right| \\right|}\n",
    "$$"
   ]
  },
  {
   "cell_type": "markdown",
   "metadata": {},
   "source": [
    "### Long Problems \n",
    "* (Carried over from 4/6/20) Let $\\left\\{a_{n}\\right\\}_{n=1}^{\\infty}$ be a bounded sequence.  Let \n",
    "$$\n",
    "s_{n} = \\inf_{k\\gt n} a_{k},\n",
    "$$\n",
    "and let $S=\\sup_{n\\geq 1}s_{n}$.  Show that there is a subsequence of $a_{n}$ which converges to $S$.  Prove this two ways.  \n",
    "    * In the first proof, show $s_{n}$ is bounded and increasing.  Proceed to show that $S$ is a cluster point of the original sequence.  \n",
    "    * In the second proof, use the fact that $\\forall \\epsilon \\gt 0$, $\\exists K \\geq n$ such that $a_{K} \\lt s_{n} + \\epsilon$.  Likewise, you will need to use the fact that $\\forall \\epsilon \\gt 0$, $\\exists N \\in \\mathbb{N}$ such that $S \\lt s_{N} + \\epsilon$."
   ]
  },
  {
   "cell_type": "markdown",
   "metadata": {},
   "source": [
    "**First Proof**: Just adapt the solution to the third problem of Homework Six.  Note, the solution is posted.  \n",
    "\n",
    "**Second Proof**:  So here, we want to use the Greatest Lower Bound (GLB) property of the infimum and the Least Upper Bound (LUB) property of the supremum.  By this, we mean \n",
    "* (GLB) $\\forall \\epsilon\\gt 0 ~\\exists K\\gt n, ~ a_{K}\\lt s_{n} + \\epsilon$\n",
    "* (LUB) $\\forall \\epsilon\\gt 0 ~\\exists N \\in \\mathbb{N}, ~ S \\lt s_{N} + \\epsilon$.\n",
    "\n",
    "So, since $\\inf$ is a lower bound, we have that \n",
    "$$\n",
    "s_{n}\\leq a_{k}, ~ \\forall k\\geq n.\n",
    "$$\n",
    "Thus, if we joint this with the LUB property, we have shown that \n",
    "$$\n",
    "\\forall \\epsilon \\gt 0 ~ \\exists N \\in \\mathbb{N}, ~ S-\\epsilon \\lt a_{N+k}, ~ \\forall k\\geq 0.\n",
    "$$\n",
    "\n",
    "Likewise, since $\\sup$ is an upper bound, we naturally have that \n",
    "$$\n",
    "s_{n} \\leq S. \n",
    "$$\n",
    "Thus, if we join this with the GLB property, we have shown that \n",
    "$$\n",
    "\\forall \\epsilon \\gt 0 ~ \\exists K \\geq n, ~ a_{K} \\lt S + \\epsilon.\n",
    "$$\n",
    "\n",
    "To combine these results to get the final proof, we fix $\\epsilon$ and see that there is an $N$ such that \n",
    "$$\n",
    "S-\\epsilon \\lt a_{N+k}, ~ \\forall k\\geq 0\n",
    "$$\n",
    "we can then find a $K_{0} = N+k_{0}\\gt N$ such that \n",
    "$$\n",
    "S - \\epsilon \\lt a_{K_{0}},\n",
    "$$\n",
    "and\n",
    "$$\n",
    "a_{K_{0}} \\lt S + \\epsilon.\n",
    "$$\n",
    "Therefore we have shown that \n",
    "$$\n",
    "\\left|a_{K_{0}} - S\\right| \\lt \\epsilon.\n",
    "$$\n",
    "\n",
    "Iterating on this, we can find a $K_{1}\\gt K_{0}$ such that \n",
    "$$\n",
    "S - \\epsilon \\lt a_{K_{1}} \\lt S + \\epsilon,\n",
    "$$\n",
    "and thus we can find a $K_{2}\\gt K_{1}$, and so on and so forth.  Thus we see $S$ is a cluster point of the sequence, and therefore it must be the limit of a subsequence.  "
   ]
  },
  {
   "cell_type": "code",
   "execution_count": null,
   "metadata": {},
   "outputs": [],
   "source": []
  }
 ],
 "metadata": {
  "kernelspec": {
   "display_name": "Python 3",
   "language": "python",
   "name": "python3"
  },
  "language_info": {
   "codemirror_mode": {
    "name": "ipython",
    "version": 3
   },
   "file_extension": ".py",
   "mimetype": "text/x-python",
   "name": "python",
   "nbconvert_exporter": "python",
   "pygments_lexer": "ipython3",
   "version": "3.7.6"
  }
 },
 "nbformat": 4,
 "nbformat_minor": 2
}

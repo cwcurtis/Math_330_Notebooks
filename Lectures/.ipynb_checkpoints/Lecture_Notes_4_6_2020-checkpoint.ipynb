{
 "cells": [
  {
   "cell_type": "markdown",
   "metadata": {},
   "source": [
    "## Lecture Notes for 4/6/2020"
   ]
  },
  {
   "cell_type": "markdown",
   "metadata": {},
   "source": [
    "### Core\n",
    "* Write Proposition 5.2.1\n",
    "* Summarize the remark just below on page 61."
   ]
  },
  {
   "cell_type": "markdown",
   "metadata": {},
   "source": [
    "### Short Problems\n",
    "* Show that the function $f(x)$ where\n",
    "$$\n",
    "f(x) = \\left\\{\\begin{array}{rl} 1 & x \\lt 0 \\\\ -1 & x \\geq 0 \\end{array}\\right.\n",
    "$$\n",
    "is discontinuous at the origin.  \n",
    "\n",
    "* Show that the function \n",
    "$$\n",
    "f(x) = \\left\\{\\begin{array}{rl} -x & x \\lt 0 \\\\ 1-x & x \\geq 0 \\end{array}\\right.\n",
    "$$\n",
    "is discontinuous at the origin.  \n",
    "\n",
    "\n",
    "So in both problems, if we introduce the sequence, $x_{n} = (-1)^{n}/n$, we see that \n",
    "$$\n",
    "x_{2k}= \\frac{1}{2k} \\gt 0, ~ x_{2k+1}=-\\frac{1}{2k+1} \\lt 0.  \n",
    "$$\n",
    "In the first problem then, we see that \n",
    "$$\n",
    "f(x_{2k}) = -1, ~ f(x_{2k+1}) = 1.  \n",
    "$$\n",
    "And thus, while \n",
    "$$\n",
    "\\lim_{k\\rightarrow \\infty}x_{2k} = \\lim_{k\\rightarrow \\infty}x_{2k+1} = 0,\n",
    "$$\n",
    "we have \n",
    "$$\n",
    "\\lim_{k\\rightarrow \\infty}f(x_{2k}) = -1, ~ \\lim_{k\\rightarrow \\infty}f(x_{2k+1}) = 1.\n",
    "$$\n",
    "\n",
    "In the second problem, it is much the same but now \n",
    "$$\n",
    "\\lim_{k\\rightarrow \\infty}f(x_{2k}) = \\lim_{k\\rightarrow \\infty}\\left(1 - \\frac{1}{2k}\\right)=1, ~ \\lim_{k\\rightarrow \\infty}f(x_{2k+1}) = \\lim_{k\\rightarrow \\infty}\\frac{1}{2k+1}=0.\n",
    "$$\n",
    "In both cases, we see that the function must be discontinuous at $x=0$.  "
   ]
  },
  {
   "cell_type": "markdown",
   "metadata": {},
   "source": [
    "### Long Problems \n",
    "* Let $\\left\\{a_{n}\\right\\}_{n=1}^{\\infty}$ be a bounded sequence.  Let \n",
    "$$\n",
    "s_{n} = \\inf_{k\\geq n} a_{k},\n",
    "$$\n",
    "and let $S=\\sup_{n\\geq 1}s_{n}$.  Show that there is a subsequence of $a_{n}$ which converges to $S$.  Prove this two ways.  \n",
    "    * In the first proof, show $s_{n}$ is bounded and increasing.  Proceed to show that $S$ is a cluster point of the original sequence.  \n",
    "    * In the second proof, use the fact that $\\forall \\epsilon \\gt 0$, $\\exists K \\geq n$ such that $a_{K} \\lt s_{n} + \\epsilon$.  Likewise, you will need to use the fact that $\\forall \\epsilon \\gt 0$, $\\exists N \\in \\mathbb{N}$ such that $S \\lt s_{N} + \\epsilon$."
   ]
  },
  {
   "cell_type": "code",
   "execution_count": null,
   "metadata": {},
   "outputs": [],
   "source": []
  }
 ],
 "metadata": {
  "kernelspec": {
   "display_name": "Python 3",
   "language": "python",
   "name": "python3"
  },
  "language_info": {
   "codemirror_mode": {
    "name": "ipython",
    "version": 3
   },
   "file_extension": ".py",
   "mimetype": "text/x-python",
   "name": "python",
   "nbconvert_exporter": "python",
   "pygments_lexer": "ipython3",
   "version": "3.7.6"
  }
 },
 "nbformat": 4,
 "nbformat_minor": 2
}

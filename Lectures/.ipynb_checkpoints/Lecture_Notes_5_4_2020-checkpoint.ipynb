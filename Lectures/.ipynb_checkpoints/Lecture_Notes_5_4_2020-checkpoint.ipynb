{
 "cells": [
  {
   "cell_type": "markdown",
   "metadata": {},
   "source": [
    "## Lecture Notes for 5/4/2020"
   ]
  },
  {
   "cell_type": "markdown",
   "metadata": {},
   "source": [
    "### Core\n",
    "* Write Theorem 6.7.2 from pg. 79.\n",
    "* Write Theorem 6.7.3 from pg. 79.\n",
    "* From the homework, we will use the central results \n",
    "$$ \n",
    "\\frac{d}{dx}e^{x} = e^{x}, ~ \\frac{d}{dx}\\ln(x) = \\frac{1}{x}\n",
    "$$\n",
    "where $\\ln(e^{x}) = x$, and $x = e^{\\ln(x)}$.\n",
    "* Note, for any two points $a,b \\in \\mathbb{R}$, the interval between them is given by $[\\min(a,b),\\max(a,b)]$."
   ]
  },
  {
   "cell_type": "markdown",
   "metadata": {},
   "source": [
    "### Short Problems\n",
    "\n",
    "* Using logarithms, the exponential function, and the chain rule, show that $\\frac{d}{dx}x^{\\alpha} = \\alpha x^{\\alpha-1}$ for all $\\alpha\\in \\mathbb{R}$.  Note, we are not just assuming $\\alpha \\in \\mathbb{Z}$, which allowed us to use the Binomial Theorem when we showed a similar result earlier in the course.  \n",
    "* Using the Mean-Value Theorem, show that $\\forall a,b \\in \\mathbb{R}$ that $|\\sin(b)-\\sin(a)|\\leq |b-a|$.  \n",
    "* Letting $\\alpha \\gt 1$, using the Mean-Value Theorem, show that \n",
    "$$\n",
    "\\left(1 + x\\right)^{\\alpha} \\geq 1 + \\alpha x, ~ x \\gt -1.\n",
    "$$\n",
    "Break this into two cases, $-1\\lt x \\lt 0$ and $x\\geq 0$.    "
   ]
  },
  {
   "cell_type": "markdown",
   "metadata": {},
   "source": [
    "### Long Problems \n",
    "\n",
    "Suppose on an interval $[a,b]$ that $f(x)$ is continuous, and it is twice differentiable on $(a,b)$.  Show that for every point $x_{0}\\in (a,b)$ that there exists for any $x\\in(a,b)$ some value $c\\in (\\min(x,x_{0}),\\max(x,x_{0}))$ such that \n",
    "$$\n",
    "f(x) = f(x_{0}) + f'(x_{0})(x-x_{0}) + \\frac{1}{2}f''(c)(x-x_{0})^{2}.\n",
    "$$\n",
    "\n",
    "To show this, start with the function\n",
    "$$\n",
    "F(t) = f(x)- \\left( f(t) + (x-t)f'(t) \\right).  \n",
    "$$\n",
    "* Show $F(x)=0$.\n",
    "* Show $\\frac{d}{dt}F(t) = -(x-t)f''(t)$ (note, just treat $x$ like a constant).  \n",
    "* Letting $G(t) = F(t) - \\left(\\frac{x-t}{x-x_{0}}\\right)^{2}F(x_{0})$, show $G(x)=G(x_{0})=0$.  What does Rolle's Lemma now tell you when you use it on the interval $[\\min(x,x_{0}),\\max(x,x_{0})]$?\n",
    "* Prove the result.  "
   ]
  },
  {
   "cell_type": "code",
   "execution_count": null,
   "metadata": {},
   "outputs": [],
   "source": []
  }
 ],
 "metadata": {
  "kernelspec": {
   "display_name": "Python 3",
   "language": "python",
   "name": "python3"
  },
  "language_info": {
   "codemirror_mode": {
    "name": "ipython",
    "version": 3
   },
   "file_extension": ".py",
   "mimetype": "text/x-python",
   "name": "python",
   "nbconvert_exporter": "python",
   "pygments_lexer": "ipython3",
   "version": "3.7.6"
  }
 },
 "nbformat": 4,
 "nbformat_minor": 2
}

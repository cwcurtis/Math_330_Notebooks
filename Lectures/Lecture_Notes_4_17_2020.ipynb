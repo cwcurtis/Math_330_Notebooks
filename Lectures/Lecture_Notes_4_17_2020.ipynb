{
 "cells": [
  {
   "cell_type": "markdown",
   "metadata": {},
   "source": [
    "## Lecture Notes for 4/17/2020"
   ]
  },
  {
   "cell_type": "markdown",
   "metadata": {},
   "source": [
    "### Core\n",
    "* Write Theorem 5.4.2.  This is the \"continuity means you can never lift your pencil when you draw the function.\"  It's a beautiful and important theorem, and we'll revisit the proof if we have time at the end of the semester.  \n",
    "* Write Definition 6.1\n",
    "* Write Definition 6.2"
   ]
  },
  {
   "cell_type": "markdown",
   "metadata": {},
   "source": [
    "### Short Problems\n",
    "* Prove that for $f(x)=3x^2+4$ that $f'(1)=6$.  \n",
    "    * Start from \n",
    "    $$\n",
    "    \\frac{f(x+h)-f(x)}{h} = \\frac{\\left(3(x^{2}+2xh+h^2)+4)-3x^{2}-4 \\right)}{h}.\n",
    "    $$\n",
    "\n",
    "* Suppose a function is differentiable at a point $x_{0}$.  Show that it is continuous at $x_{0}$.\n",
    "    * To solve this problem, use the identity\n",
    "    $$\n",
    "    f(x) = f(x_{0}) + h\\frac{f(x)-f(x_{0})}{h}\n",
    "    $$\n",
    "    and then use properties of limits.  "
   ]
  },
  {
   "cell_type": "markdown",
   "metadata": {},
   "source": [
    "### Long Problems \n",
    "\n",
    "* Show that $\\frac{d}{dx}x^{n} = nx^{n-1}$ for all $n\\in \\mathbb{Z}$.  Note, you will need the Binomial Theorem, where for $n\\in \\mathbb{N}$, we have  \n",
    "$$\n",
    "\\left(x + h\\right)^{n} = \\sum_{l=0}^{n}\\begin{pmatrix}n \\\\ l\\end{pmatrix}x^{n-l}h^{l}, ~ \\begin{pmatrix}n \\\\ l\\end{pmatrix} = \\frac{n!}{l!(n-l)!}.\n",
    "$$\n",
    "Note, \n",
    "$$\n",
    "\\begin{pmatrix}n \\\\ 0\\end{pmatrix} = \\begin{pmatrix}n \\\\ n\\end{pmatrix} = 1,  \\begin{pmatrix}n \\\\ 1\\end{pmatrix} = \\begin{pmatrix}n \\\\ n-1\\end{pmatrix} = n.\n",
    "$$\n",
    "Then you need to prove three cases.  \n",
    "    * $n\\gt0$\n",
    "    * $n\\lt0$\n",
    "    * $n=0$"
   ]
  },
  {
   "cell_type": "code",
   "execution_count": null,
   "metadata": {},
   "outputs": [],
   "source": []
  }
 ],
 "metadata": {
  "kernelspec": {
   "display_name": "Python 3",
   "language": "python",
   "name": "python3"
  },
  "language_info": {
   "codemirror_mode": {
    "name": "ipython",
    "version": 3
   },
   "file_extension": ".py",
   "mimetype": "text/x-python",
   "name": "python",
   "nbconvert_exporter": "python",
   "pygments_lexer": "ipython3",
   "version": "3.7.6"
  }
 },
 "nbformat": 4,
 "nbformat_minor": 2
}

{
 "cells": [
  {
   "cell_type": "markdown",
   "metadata": {},
   "source": [
    "## Lecture Notes for 3/23/2020"
   ]
  },
  {
   "cell_type": "markdown",
   "metadata": {},
   "source": [
    "### Core\n",
    "\n",
    "+ Write Definition 4.3.1\n",
    "+ Write the first part of Definition 4.3.2"
   ]
  },
  {
   "cell_type": "markdown",
   "metadata": {},
   "source": [
    "### Short Problems\n",
    "\n",
    "+ Show that $\\lim_{x\\rightarrow \\infty}\\frac{2x}{x+3}=2$\n",
    "    + Why is it safe to assume that $x\\gt 0$?  With that said, show \n",
    "    $$\n",
    "    \\left|\\frac{2x}{x+3} - 2\\right| \\lt \\frac{6}{x}.\n",
    "    $$\n",
    "    + Complete the proof according to the definition.  "
   ]
  },
  {
   "cell_type": "markdown",
   "metadata": {},
   "source": [
    "### Long Problems\n",
    "Proving Theorem 4.3.1\n",
    "\n",
    "So, throughout we always suppose that $f(x)$ is increasing, i.e. $f(x)\\geq f(y)$ if $x\\geq y$, on the interval $x\\in[a,\\infty)$. \n",
    "\n",
    "For the first part of the theorem, we suppose that $\\exists M \\gt 0$ such that $f(x) \\leq M$ for $x\\geq a$.  \n",
    "+ Let $L = \\sup\\left\\{f(x): x\\geq a\\right\\}$.  Why do you know $L\\lt\\infty$?\n",
    "+ How does the remark $R$ on the bottom of page 32 help you now? Again, this is making use of the fact that $\\sup$ is a _least upper bound_.  \n",
    "+ How does using the monotonicity of the function give you the rest of the proof?  \n",
    "\n",
    "Now suppose that we cannot find any upper bound on $f(x)$ for $x\\geq a$.  Show then that \n",
    "$$\n",
    "\\lim_{x\\rightarrow \\infty}f(x) = \\infty.  \n",
    "$$"
   ]
  },
  {
   "cell_type": "code",
   "execution_count": null,
   "metadata": {},
   "outputs": [],
   "source": []
  }
 ],
 "metadata": {
  "kernelspec": {
   "display_name": "Python 3",
   "language": "python",
   "name": "python3"
  },
  "language_info": {
   "codemirror_mode": {
    "name": "ipython",
    "version": 3
   },
   "file_extension": ".py",
   "mimetype": "text/x-python",
   "name": "python",
   "nbconvert_exporter": "python",
   "pygments_lexer": "ipython3",
   "version": "3.7.6"
  }
 },
 "nbformat": 4,
 "nbformat_minor": 2
}

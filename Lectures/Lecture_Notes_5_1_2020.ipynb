{
 "cells": [
  {
   "cell_type": "markdown",
   "metadata": {},
   "source": [
    "## Lecture Notes for 5/1/2020"
   ]
  },
  {
   "cell_type": "markdown",
   "metadata": {},
   "source": [
    "### Core\n",
    "* Write Theorem 5.4.1 from pg. 65.\n",
    "* Note, we say a function $f(x)$ has a _local maximum_ at $x=c$ if there exists some $\\delta \\gt 0$ such that $f(x) \\leq f(c)$ for $x\\in [c-\\delta,c+\\delta]$. \n",
    "* How would you define, for a function $f(x)$, a _local minimum_ of $f(x)$ at $x=c$? "
   ]
  },
  {
   "cell_type": "markdown",
   "metadata": {},
   "source": [
    "### Short Problems\n",
    "\n",
    "We are going to prove Fermat's Theorem\n",
    "> Fermat's Theorem: If f(x) is differentiable at $x=c$ and has a local minimum or maximum at $c$, then $f'(c)=0$.\n",
    "\n",
    "* Suppose that $x=c$ is a local maximum of $f(x)$.  \n",
    "    * What is the sign of $(f(c+h)-f(c))/h$ if $h\\gt 0$?  \n",
    "    * What is the sign of $(f(c+h)-f(c))/h$ if $h\\lt 0$?\n",
    "    * If \n",
    "    $$\n",
    "    f'(c) = \\lim_{h\\rightarrow 0}\\frac{f(c+h)-f(c)}{h} = \\lim_{h\\rightarrow 0^{+}}\\frac{f(c+h)-f(c)}{h} = \\lim_{h\\rightarrow 0^{-}}\\frac{f(c+h)-f(c)}{h}\n",
    "    $$\n",
    "    what is $f'(c)$?\n",
    "    \n",
    "* Suppose that $x=c$ is a local minimum of $f(x)$.  Show $f'(c)=0$.  \n"
   ]
  },
  {
   "cell_type": "markdown",
   "metadata": {},
   "source": [
    "### Long Problems \n",
    "\n",
    "We are going to prove Rolle's Theorem, i.e.\n",
    "> **Rolle's Theorem**: Let $f(x)$ be continuous on $x\\in[a,b]$ and differentiable on $(a,b)$ such that $f(a)=f(b)$.  Then there must exist $c\\in (a,b)$ such that $f'(c)=0$.  \n",
    "\n",
    "* Why is this Theorem obvious if $f(x)$ is a constant function?  \n",
    "* Assuming $f(x)$ is not a constant function and that $f(a)=f(b)$, what does Theorem 5.4.1 tell us?  \n",
    "* Finish the proof of the Theorem.  "
   ]
  },
  {
   "cell_type": "code",
   "execution_count": null,
   "metadata": {},
   "outputs": [],
   "source": []
  }
 ],
 "metadata": {
  "kernelspec": {
   "display_name": "Python 3",
   "language": "python",
   "name": "python3"
  },
  "language_info": {
   "codemirror_mode": {
    "name": "ipython",
    "version": 3
   },
   "file_extension": ".py",
   "mimetype": "text/x-python",
   "name": "python",
   "nbconvert_exporter": "python",
   "pygments_lexer": "ipython3",
   "version": "3.7.6"
  }
 },
 "nbformat": 4,
 "nbformat_minor": 2
}

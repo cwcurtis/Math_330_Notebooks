{
 "cells": [
  {
   "cell_type": "markdown",
   "metadata": {
    "collapsed": false
   },
   "source": [
    "## Homework Six: Due 3/11/20\n",
    "\n",
    "**Problem 1**: Find all of the cluster points of the sequence\n",
    "$$\n",
    "a_{n} = \\sin\\left(\\frac{2\\pi}{5}n \\right) + \\frac{2n^{2}+1}{3n^{2}+2}, ~ n\\geq 1.\n",
    "$$"
   ]
  },
  {
   "cell_type": "markdown",
   "metadata": {
    "collapsed": false
   },
   "source": [
    "Provide your answer here: "
   ]
  },
  {
   "cell_type": "markdown",
   "metadata": {
    "collapsed": false
   },
   "source": [
    "**Problem 2**: Let $a > 0$ and define the sequence \n",
    "$$\n",
    "s_{n+1} = s_{n} + \\frac{a}{s_{n}}, ~ n\\geq 1, ~ s_{1}>0.\n",
    "$$\n",
    "\n",
    "+ Show that $s_{n+1}\\geq \\sqrt{a}$ for $n \\geq 1$.  _Hint_: $s_{n}$ is a _real_ root of the quadratic equation $x^{2}-s_{n+1}x + a$.  What does this mean with regards to the discriminant?\n",
    "\n",
    "+ Show $s_{n}$ is a decreasing sequence for $n\\geq 2$.  _Hint_: Look at the difference $s_{n}-s_{n+1}$.\n",
    "\n",
    "+ Which theorem guarantees that $\\lim_{n\\rightarrow \\infty}s_{n}$ exists?\n",
    "\n",
    "+ Find $\\lim_{n\\rightarrow \\infty}s_{n}$."
   ]
  },
  {
   "cell_type": "markdown",
   "metadata": {
    "collapsed": false
   },
   "source": [
    "Provide your answer here:"
   ]
  },
  {
   "cell_type": "markdown",
   "metadata": {
    "collapsed": false
   },
   "source": [
    "**Problem 3**: Let $\\left\\{a_{n}\\right\\}_{n=1}^{\\infty}$ be a bounded sequence and for each $n\\in \\mathbb{N}$ let $s_{n} = \\sup_{k\\geq n} a_{k}$.  Let $S = \\inf_{n\\geq 1} s_{n}$.  Show that there exists a subsequence of $\\left\\{a_{n}\\right\\}_{n=1}^{\\infty}$ which converges to $S$."
   ]
  },
  {
   "cell_type": "markdown",
   "metadata": {
    "collapsed": false
   },
   "source": [
    "Provide your answer here:"
   ]
  },
  {
   "cell_type": "markdown",
   "metadata": {
    "collapsed": false
   },
   "source": [
    "**Problem 4**: Using everything we have proven thus far in the class, what can you say, or not say, about the sequence $a_{n} = \\sin(n), ~ n\\geq 1$.  Does it converge?  Diverge?  Is it bounded?  Increasing?  Decreasing?  Does it have at least one cluster point?  If so, can you determine one?"
   ]
  },
  {
   "cell_type": "markdown",
   "metadata": {
    "collapsed": false
   },
   "source": [
    "Provide your answer here: "
   ]
  },
  {
   "cell_type": "code",
   "execution_count": 0,
   "metadata": {
    "collapsed": false
   },
   "outputs": [
   ],
   "source": [
   ]
  }
 ],
 "metadata": {
  "kernelspec": {
   "display_name": "Python 3 (system-wide)",
   "language": "python",
   "metadata": {
    "cocalc": {
     "description": "Python 3 programming language",
     "priority": 100,
     "url": "https://www.python.org/"
    }
   },
   "name": "python3"
  },
  "language_info": {
   "codemirror_mode": {
    "name": "ipython",
    "version": 3
   },
   "file_extension": ".py",
   "mimetype": "text/x-python",
   "name": "python",
   "nbconvert_exporter": "python",
   "pygments_lexer": "ipython3",
   "version": "3.6.9"
  }
 },
 "nbformat": 4,
 "nbformat_minor": 0
}
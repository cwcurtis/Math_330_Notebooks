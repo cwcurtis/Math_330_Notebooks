{
 "cells": [
  {
   "cell_type": "markdown",
   "metadata": {},
   "source": [
    "## Midterm 2: Due 4/29/20 by 10 am\n",
    "\n",
    "* Work in your group.\n",
    "\n",
    "\n",
    "* Do not communicate with other groups.  Nope, not even about that because it has to do with math.  You can talk about movies and the weather if you insist.    \n",
    "\n",
    "\n",
    "* Do not use online message boards to solicit solutions to problems.  I need to know what you can do.  You need to know what you can do.  \n",
    "\n",
    "\n",
    "* I will answer any question about a worked solution from Homeworks 4-10.  Seriously, just ask.  I promise you, any answer you need to a problem is in there.  \n",
    "\n",
    "\n",
    "* Please turn in one common exam for your entire group.  Just putting it on Drive is fine.  All of you will share that score.  \n",
    "\n",
    "\n",
    "* 15 % of your final exam grade will come from group evaluations.  The scale is on a 1-3-5, where 3 is \"Fine\", 5 is \"Outstanding\", and 1 is \"No contribution/detracted\".  Please also score yourself.  Treat 3 as the default score with less than 3 reflecting that someone was either not participating, relying entirely on others, or was detracting from doing the exam in some significant way.  \n",
    "\n",
    "\n",
    "* The evaluation criteria are \n",
    "\n",
    "    * Mathematical Contributions: Did someone (or you) contribute a mathematical insight which allowed for a problem to be solved?  Did they bring up important mathematical questions that helped lead you to a more complete answer, or showed a proposed approach was incorrect?  \n",
    "    \n",
    "    * Technical Contributions: Did someone do most of the typing and formatting?  Did someone make sure any common space like a Google Drive folder was set up and well managed?  Did someone help you fix a computer problem at 2 in the morning?  \n",
    "\n",
    "    * Logistical Contributions:  Who helped organize group meetings?  Who made sure that multiple versions of exams got turned into one common group answer?  Who sent out emails to see how people were doing and where they were at with the exam?  \n",
    "    \n",
    "    * Social Contributions:  Was someone especially pleasant to work with?  Did they help keep up morale, help settle interpersonal conflicts, or manage disagreements about approaches to problem solving?  "
   ]
  },
  {
   "cell_type": "markdown",
   "metadata": {},
   "source": [
    "## Problems\n",
    "* Each problem is worth 10 points.  \n",
    "* Points will be docked in one point increments down to 4 points.  \n",
    "* At 3 points, credit is assigned for stating all relevant theorems and propositions, even if no solution is found using them.\n",
    "* At 2 points, credit is assigned for stating some relevant theorems and propositions, even if no solution is found using them.\n",
    "* At 1 point, credit is assigned for at least some description of a similar problem from the homework or lecture.  \n",
    "* No credit is given if no work at all is shown.  "
   ]
  },
  {
   "cell_type": "markdown",
   "metadata": {},
   "source": [
    "**Problem 1**: Let $x_{n} = r^{n}\\sin\\left(\\left(n+\\frac{1}{2}\\right)\\pi \\right)$ where $r\\in \\mathbb{R}$ and $n\\in \\mathbb{N}$.  Find $\\overline{\\lim}_{n}x_{n}$ and $\\underline{\\lim}_{n}x_{n}$ for all values of $r$."
   ]
  },
  {
   "cell_type": "markdown",
   "metadata": {},
   "source": [
    "_Provide Answer Here_ :"
   ]
  },
  {
   "cell_type": "markdown",
   "metadata": {},
   "source": [
    "**Problem 2**: Let the sequence $\\{a_n\\}_{n\\in\\mathbb{N}}$ be defined by the recursion: $a_{n+1}=\\sqrt{4+3a_n}$ with $a_1=2$.\n",
    "+ Show by induction that $\\{a_n\\}_{n\\in\\mathbb{N}}$ is an increasing sequence.\n",
    "+ Show by induction that $4$ is an upper bound of $\\{a_n\\}_{n\\in\\mathbb{N}}$.\n",
    "+ From the previous questions, can you conclude if the sequence converges or not? Explain why.\n",
    "+ Find the limit $L=\\lim_{n\\to \\infty} a_n$."
   ]
  },
  {
   "cell_type": "markdown",
   "metadata": {},
   "source": [
    "_Provide Answer Here_ :"
   ]
  },
  {
   "cell_type": "markdown",
   "metadata": {},
   "source": [
    "**Problem 3**: Let $\\left\\{a_{n}\\right\\}_{n=1}^{\\infty}$ be a bounded sequence.  Let \n",
    "$$\n",
    "s_{n} = \\sup_{k\\gt n} a_{k},\n",
    "$$\n",
    "and let $S=\\inf_{n\\geq 1}s_{n}$.  Show that there is a subsequence of $a_{n}$ which converges to $S$.  Do this by  \n",
    "    \n",
    "   * Using the fact that $\\forall \\epsilon \\gt 0$, $\\exists K \\gt n$ such that $s_{n} \\lt a_{K} + \\epsilon$.  Likewise, you will need to use the fact that $\\forall \\epsilon \\gt 0$, $\\exists N \\in \\mathbb{N}$ such that $s_{N} \\lt S + \\epsilon$."
   ]
  },
  {
   "cell_type": "markdown",
   "metadata": {},
   "source": [
    "_Provide Answer Here_ :"
   ]
  },
  {
   "cell_type": "markdown",
   "metadata": {},
   "source": [
    "**Problem 4**: Using the full $\\epsilon-\\delta$ formalism, show that $\\cot(x)=\\cos(x)/\\sin(x)$ is continuous on $x\\in(0,\\pi/2]$.  Is it uniformly continuous on this interval?  Why or why not?"
   ]
  },
  {
   "cell_type": "markdown",
   "metadata": {},
   "source": [
    "_Provide Answer Here_ :"
   ]
  },
  {
   "cell_type": "markdown",
   "metadata": {},
   "source": [
    "**Problem 5**: We call a function $f(x)$ on an interval $I$ _Holder_ Continuous if for all $x,y\\in I$, there is some $\\alpha \\in (0,1]$ and $M\\gt 0$ such that \n",
    "$$\n",
    "\\left|f(x)-f(y)\\right| \\leq M |x-y|^{\\alpha}.\n",
    "$$\n",
    "Show that any Holder Continuous function on $I$ is uniformly continuous on $I$. "
   ]
  },
  {
   "cell_type": "markdown",
   "metadata": {},
   "source": [
    "_Provide Answer Here_ :"
   ]
  },
  {
   "cell_type": "markdown",
   "metadata": {},
   "source": [
    "**Problem 6**: Let $f,g : \\mathbb{R}\\rightarrow \\mathbb{R}$ be continuous at a point $x_{0}\\in \\mathbb{R}$.  Let \n",
    "$$\n",
    "h(x) = \\inf\\left\\{f(x),g(x)\\right\\}.\n",
    "$$\n",
    "* Show that $h(x) = \\frac{1}{2}(f(x)+g(x)) - \\frac{1}{2}\\left|f(x)-g(x) \\right|$\n",
    "* Show that $h(x)$ is continuous at $x_{0}$."
   ]
  },
  {
   "cell_type": "markdown",
   "metadata": {},
   "source": [
    "_Provide Answer Here_ :"
   ]
  },
  {
   "cell_type": "markdown",
   "metadata": {},
   "source": [
    "**Problem 7**: (Challenging) Suppose $f(x)$ is continuous at $x_{0}$ and that $f(x_{0})\\gt 0$.  Show that there must be some interval $I$ such that $x_{0}\\in I$ and $f(x)\\gt 0$ for all $x\\in I$.  "
   ]
  },
  {
   "cell_type": "markdown",
   "metadata": {},
   "source": [
    "_Provide Answer Here_ :"
   ]
  }
 ],
 "metadata": {
  "kernelspec": {
   "display_name": "Python 3",
   "language": "python",
   "name": "python3"
  },
  "language_info": {
   "codemirror_mode": {
    "name": "ipython",
    "version": 3
   },
   "file_extension": ".py",
   "mimetype": "text/x-python",
   "name": "python",
   "nbconvert_exporter": "python",
   "pygments_lexer": "ipython3",
   "version": "3.7.6"
  }
 },
 "nbformat": 4,
 "nbformat_minor": 4
}

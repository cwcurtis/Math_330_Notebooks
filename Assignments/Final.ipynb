{
 "cells": [
  {
   "cell_type": "markdown",
   "metadata": {},
   "source": [
    "## Final: Due 5/14/20 by 5 pm\n",
    "\n",
    "* Work in your group.\n",
    "\n",
    "\n",
    "* Do not communicate with other groups.  Nope, not even about that because it has to do with math.  You can talk about movies and the weather if you insist.    \n",
    "\n",
    "\n",
    "* Do not use online message boards to solicit solutions to problems.  I need to know what you can do.  You need to know what you can do.  \n",
    "\n",
    "\n",
    "* I will answer any question about a worked solution from Homeworks 4-11.  Seriously, just ask.  I promise you, any answer you need to a problem is in there.  \n",
    "\n",
    "\n",
    "* Please turn in one common exam for your entire group.  Just putting it on Drive is fine.  All of you will share that score.  \n",
    "\n",
    "\n",
    "* 15 % of your final exam grade will come from group evaluations.  The scale is on a 1-3-5, where 3 is \"Fine\", 5 is \"Outstanding\", and 1 is \"No contribution/detracted\".  Please also score yourself.  Treat 3 as the default score with less than 3 reflecting that someone was either not participating, relying entirely on others, or was detracting from doing the exam in some significant way.  \n",
    "\n",
    "\n",
    "* The evaluation criteria are \n",
    "\n",
    "    * Mathematical Contributions: Did someone (or you) contribute a mathematical insight which allowed for a problem to be solved?  Did they bring up important mathematical questions that helped lead you to a more complete answer, or showed a proposed approach was incorrect?  \n",
    "    \n",
    "    * Technical Contributions: Did someone do most of the typing and formatting?  Did someone make sure any common space like a Google Drive folder was set up and well managed?  Did someone help you fix a computer problem at 2 in the morning?  \n",
    "\n",
    "    * Logistical Contributions:  Who helped organize group meetings?  Who made sure that multiple versions of exams got turned into one common group answer?  Who sent out emails to see how people were doing and where they were at with the exam?  \n",
    "    \n",
    "    * Social Contributions:  Was someone especially pleasant to work with?  Did they help keep up morale, help settle interpersonal conflicts, or manage disagreements about approaches to problem solving?  "
   ]
  },
  {
   "cell_type": "markdown",
   "metadata": {},
   "source": [
    "## Problems\n",
    "* Each problem is worth 10 points.  \n",
    "* Points will be docked in one point increments down to 4 points.  \n",
    "* At 3 points, credit is assigned for stating all relevant theorems and propositions, even if no solution is found using them.\n",
    "* At 2 points, credit is assigned for stating some relevant theorems and propositions, even if no solution is found using them.\n",
    "* At 1 point, credit is assigned for at least some description of a similar problem from the homework or lecture.  \n",
    "* No credit is given if no work at all is shown.  "
   ]
  },
  {
   "cell_type": "markdown",
   "metadata": {},
   "source": [
    "**Problem 1**: Show that if for the sequence of real numbers $\\left\\{a_{n}\\right\\}_{n=1}^{\\infty}$ that $$\n",
    "\\lim_{n\\rightarrow \\infty}a_{n} = 0, \n",
    "$$\n",
    "then \n",
    "$$\n",
    "\\lim_{n\\rightarrow\\infty}\\frac{1}{n}\\sum_{j=1}^{n}a_{j} = 0.\n",
    "$$\n",
    "\n",
    "Hint: If $n\\gt N$, then \n",
    "$$\n",
    "\\left|\\frac{1}{n}\\sum_{j=1}^{n}a_{j}\\right| \\leq \\frac{1}{n}\\sum_{j=1}^{N}\\left|a_{j}\\right| + \\frac{1}{n}\\sum_{j=N+1}^{n}\\left|a_{j}\\right|\n",
    "$$ "
   ]
  },
  {
   "cell_type": "markdown",
   "metadata": {},
   "source": [
    "#### _Provide Answer Here_ :"
   ]
  },
  {
   "cell_type": "markdown",
   "metadata": {},
   "source": [
    "**Problem 2**: Let the sequence $\\{x_n\\}$ be defined by $x_1=2$ and $\\forall n\\in\\mathbb{N},x_{n+1}=\\frac{4}{5-x_n}$.\n",
    "+ Show by induction that $\\{x_n\\}_{n\\in\\mathbb{N}}$ is a decreasing sequence.\n",
    "+ Show by induction that $1$ is a lower bound of $\\{x_n\\}_{n\\in\\mathbb{N}}$.\n",
    "+ From the previous questions, can you conclude if the sequence converges or not? Explain why.\n",
    "+ Find the limit $L=\\lim_{n\\to \\infty} x_n$."
   ]
  },
  {
   "cell_type": "markdown",
   "metadata": {},
   "source": [
    "#### _Provide Answer Here_ :"
   ]
  },
  {
   "cell_type": "markdown",
   "metadata": {},
   "source": [
    "**Problem 3**: Use the appropriate $\\epsilon-N$ definition to prove that $\\lim_{n\\to\\infty}(\\sqrt{n+1}-\\sqrt{n})=0$."
   ]
  },
  {
   "cell_type": "markdown",
   "metadata": {},
   "source": [
    "#### _Provide Answer Here_ :"
   ]
  },
  {
   "cell_type": "markdown",
   "metadata": {},
   "source": [
    "**Problem 4**: Let \n",
    "$$\n",
    "f(x)=\\begin{cases} x^2\\qquad&\\text{if}\\, x\\leq 1,\\\\ x+1\\qquad&\\text{if}\\, x\\gt 1\\end{cases}.\n",
    "$$  \n",
    "At what points is $f$ continuous? Justify your answer."
   ]
  },
  {
   "cell_type": "markdown",
   "metadata": {},
   "source": [
    "#### _Provide Answer Here_ :"
   ]
  },
  {
   "cell_type": "markdown",
   "metadata": {},
   "source": [
    "**Problem 5**:  We say a function $f:\\mathbb{R}\\rightarrow\\mathbb{R}$ is an _even function_ if $f(-x)=f(x)$.  We say a function is an _odd function_ if $f(-x)=-f(x)$.  \n",
    "\n",
    "Show\n",
    "* If $f(x)$ is an even function and differentiable then $f'(x)$ is an odd function.\n",
    "* If $f(x)$ is an odd function and differentiable then $f'(x)$ is an even function.  "
   ]
  },
  {
   "cell_type": "markdown",
   "metadata": {},
   "source": [
    "#### _Provide Answer Here_ :"
   ]
  },
  {
   "cell_type": "markdown",
   "metadata": {},
   "source": [
    "**Problem 6**: (Tricky) Use the Mean Value Theorem to prove that $(x-1)/x \\lt \\ln x \\lt x-1$ for $x\\gt 1$.  Note, $\\ln(1)=0$."
   ]
  },
  {
   "cell_type": "markdown",
   "metadata": {},
   "source": [
    "#### _Provide Answer Here_ :"
   ]
  },
  {
   "cell_type": "markdown",
   "metadata": {},
   "source": [
    "**Problem 7**: (Challenging) Let $I=[a,b]$ and $f:I\\rightarrow \\mathbb{R}$.  Suppose $f$ is continuous on $I$ and $f(a)\\lt 0$ and $f(b)\\gt 0$.  Let the set $W\\subset I$ be defined by \n",
    "$$\n",
    "W = \\left\\{x\\in I: f(x)\\lt 0\\right\\}.\n",
    "$$\n",
    "Let $w = \\sup(W)$.  Prove that $f(w) = 0$."
   ]
  },
  {
   "cell_type": "markdown",
   "metadata": {},
   "source": [
    "#### _Provide Answer Here_ :"
   ]
  },
  {
   "cell_type": "markdown",
   "metadata": {},
   "source": [
    "**Problem 8**: (Challenging) Let $n\\in \\mathbb{N}$, let $I=[a,b]$, and let $f:I\\rightarrow \\mathbb{R}$ be such that $f'(x)$, $f''(x)$, $f'''(x)$, $\\cdots$, $f^{(n)}(x)$, and $f^{(n+1)}(x)$, all exist on $x\\in(a,b)$.  If $x_{0}\\in I$, show that there exists some $c\\in (\\min(x,x_{0}),\\max(x,x_{0}))$ such that \n",
    "$$\n",
    "f(x) = f(x_{0}) + f'(x_{0})(x-x_{0}) + \\frac{1}{2!}f''(x_{0})(x-x_{0})^{2} + \\cdots + \\frac{f^{(n)}(x_{0})}{n!}(x-x_{0})^{n} + \\frac{f^{(n+1)}(c)}{(n+1)!}(x-x_{0})^{n+1}\n",
    "$$\n",
    "\n",
    "Note, by $f^{(n)}(x)$ we mean\n",
    "$$\n",
    "f^{(n)}(x) = \\frac{d^{n}}{dx^{n}}f(x).\n",
    "$$"
   ]
  },
  {
   "cell_type": "markdown",
   "metadata": {},
   "source": [
    "#### _Provide Answer Here_ :"
   ]
  }
 ],
 "metadata": {
  "kernelspec": {
   "display_name": "Python 3",
   "language": "python",
   "name": "python3"
  },
  "language_info": {
   "codemirror_mode": {
    "name": "ipython",
    "version": 3
   },
   "file_extension": ".py",
   "mimetype": "text/x-python",
   "name": "python",
   "nbconvert_exporter": "python",
   "pygments_lexer": "ipython3",
   "version": "3.7.6"
  }
 },
 "nbformat": 4,
 "nbformat_minor": 4
}

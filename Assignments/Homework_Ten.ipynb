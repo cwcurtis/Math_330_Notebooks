{
 "cells": [
  {
   "cell_type": "markdown",
   "metadata": {},
   "source": [
    "## Homework Ten: Due 4/17/20\n",
    "\n",
    "**Problem 1**: Let $\\left\\{a_{n}\\right\\}_{n=1}^{\\infty}$ be a bounded sequence.  Let \n",
    "$$\n",
    "s_{n} = \\inf_{k\\gt n} a_{k},\n",
    "$$\n",
    "and let $S=\\sup_{n\\geq 1}s_{n}$.  Show that there is a subsequence of $a_{n}$ which converges to $S$.  Prove this two ways.  \n",
    "    \n",
    "   * In the first proof, show $s_{n}$ is bounded and increasing.  Proceed to show that $S$ is a cluster point of the original sequence.  \n",
    "   * In the second proof, use the fact that $\\forall \\epsilon \\gt 0$, $\\exists K \\geq n$ such that $a_{K} \\lt s_{n} + \\epsilon$.  Likewise, you will need to use the fact that $\\forall \\epsilon \\gt 0$, $\\exists N \\in \\mathbb{N}$ such that $S \\lt s_{N} + \\epsilon$.\n"
   ]
  },
  {
   "cell_type": "markdown",
   "metadata": {},
   "source": [
    "Provide your answer here: "
   ]
  },
  {
   "cell_type": "markdown",
   "metadata": {},
   "source": [
    "**Problem 2**: Prove that $f(x) = 1/x^{2}$ is uniformly continuous for any interval $(-\\infty,-\\delta]$, where $\\delta \\gt0$.  "
   ]
  },
  {
   "cell_type": "markdown",
   "metadata": {},
   "source": [
    "Provide your answer here:"
   ]
  },
  {
   "cell_type": "markdown",
   "metadata": {},
   "source": [
    "**Problem 3**: Prove that $f(x)=1/x^{2}$ is continuous on the interval $(-\\infty,0)$ but not uniformly continuous.  "
   ]
  },
  {
   "cell_type": "markdown",
   "metadata": {},
   "source": [
    "Provide your answer here: "
   ]
  },
  {
   "cell_type": "markdown",
   "metadata": {},
   "source": [
    "**Problem 4**: On a given interval $I$, if for all $x,y\\in I$ there exists a postive real number $K\\gt0$ such that \n",
    "$$\n",
    "\\left|f(x)-f(y) \\right| \\lt K \\left|x-y \\right|\n",
    "$$\n",
    "we say that $f(x)$ is a _Lipschitz_ function on the interval $I$.  Show that if $f(x)$ is a Lipshcitz function on an interval $I$, it is uniformly continuous on the interval $I$.  "
   ]
  },
  {
   "cell_type": "markdown",
   "metadata": {},
   "source": [
    "Provide your answer here: "
   ]
  },
  {
   "cell_type": "markdown",
   "metadata": {},
   "source": [
    "**Problem 5**: Let $f,g : \\mathbb{R}\\rightarrow \\mathbb{R}$ be continuous at a point $x_{0}\\in \\mathbb{R}$.  Let \n",
    "$$\n",
    "h(x) = \\sup\\left\\{f(x),g(x)\\right\\}.\n",
    "$$\n",
    "* Show that $h(x) = \\frac{1}{2}(f(x)+g(x)) + \\frac{1}{2}\\left|f(x)-g(x) \\right|$\n",
    "* Show that $h(x)$ is continuous at $x_{0}$."
   ]
  },
  {
   "cell_type": "markdown",
   "metadata": {},
   "source": [
    "Provide your answer here: "
   ]
  },
  {
   "cell_type": "code",
   "execution_count": null,
   "metadata": {},
   "outputs": [],
   "source": []
  }
 ],
 "metadata": {
  "kernelspec": {
   "display_name": "Python 3",
   "language": "python",
   "name": "python3"
  },
  "language_info": {
   "codemirror_mode": {
    "name": "ipython",
    "version": 3
   },
   "file_extension": ".py",
   "mimetype": "text/x-python",
   "name": "python",
   "nbconvert_exporter": "python",
   "pygments_lexer": "ipython3",
   "version": "3.7.6"
  }
 },
 "nbformat": 4,
 "nbformat_minor": 1
}

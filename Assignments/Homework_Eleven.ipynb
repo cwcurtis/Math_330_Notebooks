{
 "cells": [
  {
   "cell_type": "markdown",
   "metadata": {},
   "source": [
    "## Homework Elevn: Due 5/8/20\n",
    "\n",
    "**Problem 1**: Prove that a function $g(x)$ differentiable at $x=c$ such that $g(c)\\neq0$ that $\\frac{d}{dx}\\frac{1}{g(x)}=-\\frac{1}{g^{2}(x)}\\frac{d}{dx}g(x)$"
   ]
  },
  {
   "cell_type": "markdown",
   "metadata": {},
   "source": [
    "Provide your answer here: "
   ]
  },
  {
   "cell_type": "markdown",
   "metadata": {},
   "source": [
    "**Problem 2**: Given that \n",
    "$$\n",
    "e^{x} = \\lim_{m\\rightarrow \\infty} \\left(1 + \\frac{x}{m} \\right)^{m},\n",
    "$$\n",
    "show \n",
    "$$\n",
    "\\lim_{h\\rightarrow 0}\\frac{e^{h}-1}{h} = 1.\n",
    "$$\n",
    "As a starting point, first show that \n",
    "\\begin{align}\n",
    "\\frac{1}{h}\\left(\\left(1+\\frac{h}{m}\\right)^{m} -1\\right) = & \\sum_{l=1}^{m}\\frac{1}{m^{l}}\\begin{pmatrix} m \\\\ l\\end{pmatrix}h^{l-1}\\\\\n",
    "= & 1 + h\\sum_{l=2}^{m}\\frac{1}{m^{l}}\\begin{pmatrix} m \\\\ l\\end{pmatrix}h^{l-2}\n",
    "\\end{align}"
   ]
  },
  {
   "cell_type": "markdown",
   "metadata": {},
   "source": [
    "Provide your answer here: "
   ]
  },
  {
   "cell_type": "markdown",
   "metadata": {},
   "source": [
    "**Problem 3**: Using the results from the prior problem, prove that \n",
    "$$\n",
    "\\frac{d}{dx}e^{x} = e^{x}.\n",
    "$$"
   ]
  },
  {
   "cell_type": "markdown",
   "metadata": {},
   "source": [
    "Provide your answer here: "
   ]
  },
  {
   "cell_type": "markdown",
   "metadata": {},
   "source": [
    "**Problem 4**: Given that for $f(x)=e^{x}$ then $f^{-1}(x)=\\ln(x)$, use the formula of the derivative of an inverse function to prove that $\\frac{d}{dx}(\\ln x)=\\frac{1}{x}$.\n"
   ]
  },
  {
   "cell_type": "markdown",
   "metadata": {},
   "source": [
    "Provide your answer here:"
   ]
  },
  {
   "cell_type": "markdown",
   "metadata": {},
   "source": [
    "**Problem 5**: Use the Mean-Value Theorem to prove $\\forall a,b\\in\\mathbb{R}, |\\cos a-\\cos b|\\leq |a-b|$."
   ]
  },
  {
   "cell_type": "markdown",
   "metadata": {},
   "source": [
    "Provide your answer here: "
   ]
  }
 ],
 "metadata": {
  "kernelspec": {
   "display_name": "Python 3",
   "language": "python",
   "name": "python3"
  },
  "language_info": {
   "codemirror_mode": {
    "name": "ipython",
    "version": 3
   },
   "file_extension": ".py",
   "mimetype": "text/x-python",
   "name": "python",
   "nbconvert_exporter": "python",
   "pygments_lexer": "ipython3",
   "version": "3.7.6"
  }
 },
 "nbformat": 4,
 "nbformat_minor": 1
}

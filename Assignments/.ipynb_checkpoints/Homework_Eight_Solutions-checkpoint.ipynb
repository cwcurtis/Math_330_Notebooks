{
 "cells": [
  {
   "cell_type": "markdown",
   "metadata": {},
   "source": [
    "## Homework Eight Solutions\n",
    "For Problems 1 through 5, use the formal definition to prove the given limits\n",
    "\n",
    "**Problem 1**: $$\\lim_{x\\to 1} \\frac{2+4x}{3}=2.$$\n"
   ]
  },
  {
   "cell_type": "markdown",
   "metadata": {},
   "source": [
    "_Provide your answer here_ :\n",
    "\n",
    "We start from \n",
    "$$\n",
    "\\left|\\frac{2+4x}{3} - 2 \\right| = \\frac{1}{3}\\left|-4+4x\\right| = \\frac{4}{3}\\left|x-1\\right|\n",
    "$$\n",
    "Thus we see \n",
    "$$\n",
    "\\forall \\epsilon \\gt 0 ~\\exists \\delta = \\frac{3\\epsilon}{4}, ~ |x-1|\\lt \\delta \\rightarrow \\left|\\frac{2+4x}{3} - 2 \\right|\\lt \\epsilon.\n",
    "$$"
   ]
  },
  {
   "cell_type": "markdown",
   "metadata": {},
   "source": [
    "**Problem 2**: $$\\lim_{x\\to 4} \\frac{x^2-2x-8}{x-4}=6.$$"
   ]
  },
  {
   "cell_type": "markdown",
   "metadata": {},
   "source": [
    "_Provide your answer here_ :\n",
    "\n",
    "Using the fact that \n",
    "$$\n",
    "x^{2}-2x - 8 = (x-4)(x+2)\n",
    "$$\n",
    "we get\n",
    "$$\n",
    "\\left|\\frac{x^2-2x-8}{x-4}-6\\right| = \\left|x+2-6\\right| = \\left|x-4\\right|.\n",
    "$$\n",
    "Thus we see \n",
    "$$\n",
    "\\forall \\epsilon \\gt 0 ~\\exists \\delta = \\epsilon, ~ |x-4|\\lt \\delta \\rightarrow \\left|\\frac{x^2-2x-8}{x-4}-6\\right|\\lt \\epsilon.\n",
    "$$"
   ]
  },
  {
   "cell_type": "markdown",
   "metadata": {},
   "source": [
    "**Problem 3**: $$\\lim_{x\\to -3/2} \\frac{9-4x^2}{3+2x}=6.$$"
   ]
  },
  {
   "cell_type": "markdown",
   "metadata": {},
   "source": [
    "_Provide your answer here_ :\n",
    "\n",
    "Using the fact that \n",
    "$$\n",
    "9-4x^{2} = (3+2x)(3-2x)\n",
    "$$\n",
    "we get \n",
    "$$\n",
    "\\left|\\frac{9-4x^{2}}{3+2x}-6\\right| = \\left|3-2x-6\\right| = \\left|3+2x\\right| = 2\\left|\\frac{3}{2}+x\\right|\n",
    "$$\n",
    "Thus we see\n",
    "$$\n",
    "\\forall \\epsilon \\gt 0 ~\\exists \\delta = \\frac{\\epsilon}{2}, ~ \\left|x+\\frac{3}{2}\\right|\\lt \\delta \\rightarrow \\left|\\frac{9-4x^{2}}{3+2x}-6\\right|\\lt \\epsilon.\n",
    "$$"
   ]
  },
  {
   "cell_type": "markdown",
   "metadata": {},
   "source": [
    "**Problem 4**: $$\\lim_{x\\to 2} \\frac{1}{x}=\\frac{1}{2}.$$"
   ]
  },
  {
   "cell_type": "markdown",
   "metadata": {},
   "source": [
    "_Provide your answer here_ :\n",
    "\n",
    "We have that \n",
    "$$\n",
    "\\left|\\frac{1}{x} -\\frac{1}{2}\\right| = \\frac{\\left|x-2\\right|}{2|x|} \\leq \\frac{\\left|x-2\\right|}{2|2 - |x-2||} \n",
    "$$\n",
    "Taking $|x-2|\\lt 1$, we have that\n",
    "$$\n",
    "\\left|\\frac{1}{x} -\\frac{1}{2}\\right|  \\lt \\frac{\\left|x-2\\right|}{2} \n",
    "$$\n",
    "so that we have\n",
    "$$\n",
    "\\forall \\epsilon \\gt 0 ~\\exists \\delta = \\min\\left\\{1,2\\epsilon\\right\\}, ~ |x-2|\\lt \\delta \\rightarrow \\left|\\frac{1}{x}-\\frac{1}{2}\\right|\\lt \\epsilon.\n",
    "$$"
   ]
  },
  {
   "cell_type": "markdown",
   "metadata": {},
   "source": [
    "**Problem 5**: $$\\lim_{x\\to 1/3+} \\sqrt{\\frac{3x-1}{2}}=0.$$"
   ]
  },
  {
   "cell_type": "markdown",
   "metadata": {},
   "source": [
    "_Provide your answer here_ :\n",
    "\n",
    "For $x\\gt \\frac{1}{3}$, letting \n",
    "$$\n",
    "\\sqrt{\\frac{3x-1}{2}} \\lt \\epsilon,\n",
    "$$\n",
    "and then squaring both sides, we find\n",
    "$$\n",
    "\\frac{3x-1}{2} \\lt \\epsilon^{2},\n",
    "$$\n",
    "so that \n",
    "$$\n",
    "x \\lt \\frac{1}{3} + \\frac{2\\epsilon^{2}}{3}.\n",
    "$$\n",
    "Therefore, we have that \n",
    "$$\n",
    "\\forall \\epsilon \\gt 0 ~\\exists \\delta = \\frac{2\\epsilon^{2}}{3}, ~ \\frac{1}{3}\\lt x \\lt \\frac{1}{3} + \\delta \\rightarrow \\sqrt{\\frac{3x-1}{2}}\\lt \\epsilon.\n",
    "$$"
   ]
  },
  {
   "cell_type": "code",
   "execution_count": null,
   "metadata": {},
   "outputs": [],
   "source": []
  }
 ],
 "metadata": {
  "kernelspec": {
   "display_name": "Python 3",
   "language": "python",
   "name": "python3"
  },
  "language_info": {
   "codemirror_mode": {
    "name": "ipython",
    "version": 3
   },
   "file_extension": ".py",
   "mimetype": "text/x-python",
   "name": "python",
   "nbconvert_exporter": "python",
   "pygments_lexer": "ipython3",
   "version": "3.7.6"
  }
 },
 "nbformat": 4,
 "nbformat_minor": 1
}

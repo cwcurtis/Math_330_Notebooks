{
 "cells": [
  {
   "cell_type": "markdown",
   "metadata": {},
   "source": [
    "## Homework 4 Solutions\n",
    "\n",
    "**Problem 1**: Use the formal definition of a Cauchy sequence to show that the sequence $\\{a_n\\}_{n=1}^\\infty=\\left\\{\\frac{1}{n}\\right\\}_{n=1}^\\infty$ is a Cauchy sequence.\n",
    "\n",
    "_Solution_ : The easiest way to see this is by looking at \n",
    "$$\n",
    "\\left|\\frac{1}{n} -\\frac{1}{m} \\right| \\leq \\frac{1}{n} + \\frac{1}{m}. \n",
    "$$\n",
    "For a given $\\epsilon \\gt 0$, by taking $n, m \\gt \\lceil2/\\epsilon\\rceil$, we get \n",
    "$$\n",
    "\\left|\\frac{1}{n} -\\frac{1}{m} \\right| \\leq \\frac{\\epsilon}{2} + \\frac{\\epsilon}{2} = \\epsilon. \n",
    "$$"
   ]
  },
  {
   "cell_type": "markdown",
   "metadata": {},
   "source": [
    "**Problem 2** : Use the formal definition of a Cauchy sequence to show that the sequence $\\{a_n\\}_{n=1}^\\infty=\\left\\{\\frac{n+5}{6n+1}\\right\\}_{n=1}^\\infty$ is a Cauchy sequence.\n",
    "\n",
    "_Solution_ : So, we have that \n",
    "\\begin{align}\n",
    "\\left|\\frac{n+5}{6n+1} - \\frac{m+5}{6m+1}\\right| & = 29\\left|\\frac{m-n}{(6n+1)(6m+1)}\\right|\\\\\n",
    " & \\leq 29\\left(\\frac{m}{(6n+1)(6m+1)} + \\frac{n}{(6n+1)(6m+1)}\\right)\\\\\n",
    " & \\lt 29\\left(\\frac{m}{(6n+1)(6m)} + \\frac{n}{(6n)(6m+1)}\\right)\\\\\n",
    " & \\lt \\frac{29}{6}\\left(\\frac{1}{6n+1} + \\frac{1}{6m+1}\\right)\\\\\n",
    " & \\lt \\frac{29}{36}\\left(\\frac{1}{n} + \\frac{1}{m}\\right)\n",
    "\\end{align}\n",
    "For a given $\\epsilon \\gt 0$, by taking \n",
    "$$\n",
    "n,~ m \\gt \\left\\lceil \\frac{58}{36\\epsilon} \\right\\rceil\n",
    "$$\n",
    "we then necessarily have that \n",
    "$$\n",
    "\\left|\\frac{n+5}{6n+1} - \\frac{m+5}{6m+1}\\right| \\lt \\frac{29}{36}\\left( \\frac{36\\epsilon}{58} + \\frac{36\\epsilon}{58}\\right) = \\epsilon\n",
    "$$"
   ]
  },
  {
   "cell_type": "markdown",
   "metadata": {},
   "source": [
    "**Problems 3** : Using only the properties of Cauchy sequences, explain with a few words why the sequence $\\{(-1)^n\\}_{n=1}^\\infty$ is not a Cauchy sequence.\n",
    "\n",
    "_Solution_ : Letting $a_{n}=(-1)^{n}$, we see $a_{2k} = 1$ and $a_{2k-1}=-1$.  For all $k$, we then have \n",
    "$$\n",
    "\\left|a_{2k} - a_{2k-1} \\right| = 2,\n",
    "$$\n",
    "and thus the sequence cannot be Cauchy since the closest approach of two neighbouring terms is never smaller than $2$.\n"
   ]
  },
  {
   "cell_type": "markdown",
   "metadata": {},
   "source": [
    "**Problem 4** : Let a sequence $\\{a_{n}\\}_{n=1}^\\infty$ a sequence satisfying the condition $$\\forall c\\in(0,1),\\forall n\\in\\mathbb{N},|a_{n+2}-a_{n+1}|\\lt c|a_{n+1}-a_{n}|.$$\n",
    "+ Show that $$\\forall c\\in(0,1),\\forall n\\in\\mathbb{N},n\\geq 2, |a_{n+1}-a_{n}|\\lt c^{n-1}|a_{2}-a_{1}|.$$\n",
    "+ Show that $\\{a_n\\}_{n=1}^\\infty$ is a Cauchy sequence.\n",
    "\n",
    "_Solution_ : As for the first part, from the assumption, we have that \n",
    "$$\n",
    "|a_{3}-a_{2}|\\lt c|a_{2}-a_{1}|.\n",
    "$$\n",
    "Thus, this corresponds to the case $n=2$ in terms of the result we wish to prove.  Nevertheless, this shows our base case holds.  Proceeding then, we have \n",
    "\\begin{align}\n",
    "|a_{n+2}-a_{n+1}|\\lt & c|a_{n+1}-a_{n}|, \\\\\n",
    "\\lt & cc^{n-1}\\left|a_{2}-a_{1}\\right|,\\\\\n",
    "\\lt & c^{n}\\left|a_{2}-a_{1}\\right|,\n",
    "\\end{align}\n",
    "and thus we have the result via induction.  \n",
    "\n",
    "As for the second part, this is properly tricky.  So, we start from \n",
    "\\begin{align}\n",
    "\\left|a_{n+k} - a_{n}\\right| = & \\left|a_{n+k}-a_{n+k-1}+a_{n+k-1}-a_{n+k-2}+a_{n+k-2}\\cdots-a_{n}\\right|\\\\\n",
    "= & \\left|\\sum_{j=1}^{k}\\left(a_{n+j}-a_{n+j-1}\\right) \\right|\\\\\n",
    "\\leq & \\sum_{j=1}^{k}\\left|a_{n+j}-a_{n+j-1}\\right|\\\\\n",
    "\\leq & \\sum_{j=1}^{k}c^{n+j-2}\\left|a_{2}-a_{1}\\right|\\\\\n",
    "\\leq & c^{n-1}\\left|a_{2}-a_{1}\\right|\\sum_{j=1}^{k}c^{j-1}\\\\\n",
    "\\lt & c^{n-1}\\left|a_{2}-a_{1}\\right|\\sum_{m=0}^{\\infty}c^{m},~ (m=j-1)\\\\\n",
    "\\lt & \\frac{c^{n-1}}{1-c}\\left|a_{2}-a_{1}\\right|.\n",
    "\\end{align}\n",
    "\n",
    "Given that $0\\lt c\\lt 1$, we know $\\ln(c)\\lt 0$, so for given $0\\lt \\epsilon \\lt |a_{2}-a_{1}|/(1-c)$, we have that \n",
    "$$\n",
    "(n-1)\\ln(c) \\lt \\ln\\left(\\frac{\\epsilon (1-c)}{\\left|a_{2}-a_{1}\\right|} \\right)\n",
    "$$\n",
    "or for $n\\gt N$ where \n",
    "$$\n",
    "N = \\left\\lceil 1 +  \\frac{1}{\\ln(c)}\\ln\\left(\\frac{\\epsilon (1-c)}{\\left|a_{2}-a_{1}\\right|} \\right)\\right\\rceil\n",
    "$$\n",
    "then \n",
    "$$\n",
    "\\left|a_{n+k}-a_{n}\\right| \\lt \\epsilon.\n",
    "$$\n",
    "For $\\epsilon\\geq |a_{2}-a_{1}|/(1-c)$, given that $0 \\lt c\\lt 1$, then $0\\lt c^{n-1}\\leq 1$, so  \n",
    "$$\n",
    "\\left|a_{n+k}-a_{n}\\right| < \\frac{c^{n-1}}{1-c}\\left|a_{2}-a_{1}\\right| \n",
    "\\leq\\frac{1}{1-c}\\left|a_{2}-a_{1}\\right| \\leq \\epsilon,\n",
    "$$\n",
    "which holds for all $n$ and $k$.  One may then choose $N=1$ to obtain the necessary $\\epsilon$-bound. "
   ]
  },
  {
   "cell_type": "code",
   "execution_count": null,
   "metadata": {},
   "outputs": [],
   "source": []
  }
 ],
 "metadata": {
  "kernelspec": {
   "display_name": "Python 3",
   "language": "python",
   "name": "python3"
  },
  "language_info": {
   "codemirror_mode": {
    "name": "ipython",
    "version": 3
   },
   "file_extension": ".py",
   "mimetype": "text/x-python",
   "name": "python",
   "nbconvert_exporter": "python",
   "pygments_lexer": "ipython3",
   "version": "3.7.3"
  }
 },
 "nbformat": 4,
 "nbformat_minor": 4
}

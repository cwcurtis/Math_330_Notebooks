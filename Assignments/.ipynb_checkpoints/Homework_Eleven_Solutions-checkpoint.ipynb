{
 "cells": [
  {
   "cell_type": "markdown",
   "metadata": {},
   "source": [
    "## Homework Eleven: Due 5/8/20\n",
    "\n",
    "**Problem 1**: Prove that a function $g(x)$ differentiable at $x=c$ such that $g(c)\\neq0$ that $\\frac{d}{dx}\\frac{1}{g(x)}=-\\frac{1}{g^{2}(x)}\\frac{d}{dx}g(x)$"
   ]
  },
  {
   "cell_type": "markdown",
   "metadata": {},
   "source": [
    "_Provide your answer here_ :\n",
    "\n",
    "Starting from \n",
    "$$\n",
    "\\frac{1}{h}\\left(\\frac{1}{g(x+h)} - \\frac{1}{g(x)}\\right) = \\frac{g(x)-g(x+h)}{h} \\frac{1}{g(x)g(x+h)}\n",
    "$$\n",
    "Taking the limit as $h\\rightarrow 0$ and using the properties of limits gives the result.  "
   ]
  },
  {
   "cell_type": "markdown",
   "metadata": {},
   "source": [
    "**Problem 2**: Given that \n",
    "$$\n",
    "e^{x} = \\lim_{m\\rightarrow \\infty} \\left(1 + \\frac{x}{m} \\right)^{m},\n",
    "$$\n",
    "show \n",
    "$$\n",
    "\\lim_{h\\rightarrow 0}\\frac{e^{h}-1}{h} = 1.\n",
    "$$\n",
    "As a starting point, first show that \n",
    "\\begin{align}\n",
    "\\frac{1}{h}\\left(\\left(1+\\frac{h}{m}\\right)^{m} -1\\right) = & \\sum_{l=1}^{m}\\frac{1}{m^{l}}\\begin{pmatrix} m \\\\ l\\end{pmatrix}h^{l-1}\\\\\n",
    "= & 1 + h\\sum_{l=2}^{m}\\frac{1}{m^{l}}\\begin{pmatrix} m \\\\ l\\end{pmatrix}h^{l-2}\n",
    "\\end{align}"
   ]
  },
  {
   "cell_type": "markdown",
   "metadata": {},
   "source": [
    "_Provide your answer here_ :\n",
    "\n",
    "Starting from the hint, we see that we want to show \n",
    "$$\n",
    "\\lim_{h\\rightarrow 0}\\left(\\frac{e^{h}-1}{h} -1 \\right) = \\lim_{h\\rightarrow 0}\\lim_{m\\rightarrow \\infty} h\\sum_{l=2}^{m}\\frac{1}{m^{l}}\\begin{pmatrix} m \\\\ l\\end{pmatrix}h^{l-2} = 0.\n",
    "$$\n",
    "To get a handle on this, we note that \n",
    "\\begin{align*}\n",
    "\\frac{1}{m^{l}}\\begin{pmatrix} m \\\\ l\\end{pmatrix} = & \\frac{1}{l! m^{l}}\\prod_{k=0}^{l-1}(m-k)\\\\\n",
    "= & \\frac{1}{l!}\\prod_{k=1}^{l-1}\\left(1-\\frac{k}{m}\\right)\\\\\n",
    "\\end{align*}\n",
    "Given that $2\\leq l \\leq m$, we see that \n",
    "$$\n",
    "\\prod_{k=1}^{l-1}\\left(1-\\frac{k}{m}\\right) \\lt 1,\n",
    "$$\n",
    "since every term in the product is less than one.  Likewise, as we showed in class, $l!\\geq 2^{l-1}$ for $l\\geq 1$.  Thus, we have that \n",
    "$$\n",
    "h\\sum_{l=2}^{m}\\frac{1}{m^{l}}\\begin{pmatrix} m \\\\ l\\end{pmatrix}h^{l-2} \\lt \\frac{h}{2}\\sum_{l=2}^{m}\\left(\\frac{h}{2}\\right)^{l-2}\\lt \\frac{h}{2-h}.\n",
    "$$\n",
    "Clearly then, the right hand side vanishes and we get the desired result.  \n"
   ]
  },
  {
   "cell_type": "markdown",
   "metadata": {},
   "source": [
    "**Problem 3**: Using the results from the prior problem, prove that \n",
    "$$\n",
    "\\frac{d}{dx}e^{x} = e^{x}.\n",
    "$$"
   ]
  },
  {
   "cell_type": "markdown",
   "metadata": {},
   "source": [
    "_Provide your answer here_ :\n",
    "\n",
    "Given that \n",
    "$$\n",
    "\\frac{1}{h}\\left(e^{x+h}-e^{x} \\right) = e^{x}\\left(\\frac{e^{h}-1}{h} \\right),\n",
    "$$\n",
    "by using the result from above, we complete the proof.  "
   ]
  },
  {
   "cell_type": "markdown",
   "metadata": {},
   "source": [
    "**Problem 4**: Given that for $f(x)=e^{x}$ then $f^{-1}(x)=\\ln(x)$, use the formula of the derivative of an inverse function to prove that $\\frac{d}{dx}(\\ln x)=\\frac{1}{x}$.\n"
   ]
  },
  {
   "cell_type": "markdown",
   "metadata": {},
   "source": [
    "_Provide your answer here_ :  \n",
    "\n",
    "From the Inverse Function Theorem and the previous result, we have\n",
    "\\begin{align*}\n",
    "\\frac{d}{dx}\\ln(x) = & \\left( \\left. \\frac{d}{d\\tilde{x}}e^{\\tilde{x}} \\right|^{\\tilde{x}=\\ln(x)} \\right)^{-1} \\\\\n",
    "= & \\left( e^{\\ln(x)} \\right)^{-1} \\\\\n",
    "= & \\frac{1}{x}\n",
    "\\end{align*}"
   ]
  },
  {
   "cell_type": "markdown",
   "metadata": {},
   "source": [
    "**Problem 5**: Use the Mean-Value Theorem to prove $\\forall a,b\\in\\mathbb{R}, |\\cos a-\\cos b|\\leq |a-b|$."
   ]
  },
  {
   "cell_type": "markdown",
   "metadata": {},
   "source": [
    "_Provide your answer here_ :\n",
    "\n",
    "So, if $f(x)=\\cos(x)$, then $f'(x)=-\\sin(x)$.  Thus, from the Mean-Value Theorem, we have for some $c\\in(\\min(a,b),\\max(a,b))$ that \n",
    "$$\n",
    "\\left|\\cos(b)-\\cos(a) \\right| = |\\sin(c)||b-a|.\n",
    "$$\n",
    "Given that $|\\sin(c)|\\leq 1$, then we have\n",
    "$$\n",
    "\\left|\\cos(b)-\\cos(a) \\right| \\leq |b-a|.\n",
    "$$\n"
   ]
  },
  {
   "cell_type": "code",
   "execution_count": null,
   "metadata": {},
   "outputs": [],
   "source": []
  }
 ],
 "metadata": {
  "kernelspec": {
   "display_name": "Python 3",
   "language": "python",
   "name": "python3"
  },
  "language_info": {
   "codemirror_mode": {
    "name": "ipython",
    "version": 3
   },
   "file_extension": ".py",
   "mimetype": "text/x-python",
   "name": "python",
   "nbconvert_exporter": "python",
   "pygments_lexer": "ipython3",
   "version": "3.7.6"
  }
 },
 "nbformat": 4,
 "nbformat_minor": 1
}

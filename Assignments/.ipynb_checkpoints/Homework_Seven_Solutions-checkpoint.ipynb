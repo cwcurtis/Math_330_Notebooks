{
 "cells": [
  {
   "cell_type": "markdown",
   "metadata": {},
   "source": [
    "## Homework Seven Solutions\n",
    "\n",
    "**Problem 1**: Use the formal definition to prove that $$\\lim_{n\\to\\infty} \\left(\\frac{n}{2}+\\frac{1}{n}\\right)=+\\infty.$$\n"
   ]
  },
  {
   "cell_type": "markdown",
   "metadata": {},
   "source": [
    "Provide your answer here: \n",
    "\n",
    "So, we note that for $n\\geq 1$ that \n",
    "$$\n",
    "\\frac{n}{2} + \\frac{1}{n} \\gt \\frac{n}{2} \\gt M\n",
    "$$\n",
    "so if we let $N = 2M$, we have \n",
    "$$\n",
    "\\forall M\\gt 0 ~\\exists N=2M, ~ n\\gt N \\to \\frac{n}{2} + \\frac{1}{n} \\gt M \n",
    "$$"
   ]
  },
  {
   "cell_type": "markdown",
   "metadata": {},
   "source": [
    "**Problem 2**: Use the formal definition to prove that $$\\lim_{n\\to\\infty} -n^2+n=-\\infty.$$"
   ]
  },
  {
   "cell_type": "markdown",
   "metadata": {},
   "source": [
    "Provide your answer here: \n",
    "\n",
    "Multiplying by $-1$, we get the equivalent problem\n",
    "$$\n",
    "\\lim_{n\\to\\infty} n^2-n=\\infty.\n",
    "$$\n",
    "So, using $n \\gt (n-1)$, we have \n",
    "$$\n",
    "n^{2}-n = n(n-1) \\gt (n-1)^{2} \\gt M\n",
    "$$\n",
    "so by letting $N = \\left\\lceil 1 + \\sqrt{M}\\right\\rceil$, we get \n",
    "$$\n",
    "\\forall M \\gt 0 ~\\exists N = \\left\\lceil 1 + \\sqrt{M}\\right\\rceil, n \\gt N \\to n^{2}-n \\gt M\n",
    "$$"
   ]
  },
  {
   "cell_type": "markdown",
   "metadata": {},
   "source": [
    "**Problem 3**: Show that the sequence $\\{a_n\\}=\\left\\{\\frac{2n}{3n+1}\\right\\}$ is increasing, decreasing or neither."
   ]
  },
  {
   "cell_type": "markdown",
   "metadata": {},
   "source": [
    "Provide your answer here:  \n",
    "\n",
    "We note that \n",
    "\\begin{align}\n",
    "a_{n+1} = & \\frac{2(n+1)}{3(n+1)+1} \\\\\n",
    "= & \\frac{2n+2}{3n+1+3} \\\\\n",
    "= & \\frac{2n}{3n+1}\\frac{1 + 1/n}{1+ 3/(3n+1)}\\\\\n",
    "= & a_{n}\\frac{1 + 1/n}{1+ 1/(n+1/3)}\n",
    "\\end{align}\n",
    "So given that \n",
    "$$\n",
    "1 + \\frac{1}{n} \\gt 1 + \\frac{1}{n + 1/3},\n",
    "$$\n",
    "we see that $a_{n+1} \\gt a_{n}$ or $a_{n}$ is increasing. "
   ]
  },
  {
   "cell_type": "markdown",
   "metadata": {},
   "source": [
    "**Problem 4**: Check whether the sequence $\\{a_n\\}=\\left\\{\\frac{3^n}{1+3^n}\\right\\}$ is increasing, decreasing or neither."
   ]
  },
  {
   "cell_type": "markdown",
   "metadata": {},
   "source": [
    "Provide your answer here: \n",
    "\n",
    "We see that \n",
    "\\begin{align}\n",
    "a_{n+1} = & \\frac{3^{n+1}}{1+3^{n+1}}\\\\\n",
    "= & \\frac{3\\times 3^{n}}{1 + 3\\times3^{n}}\\\\\n",
    "= & \\frac{3^{n}}{1/3 + 3^{n}}\\\\\n",
    "\\gt & \\frac{3^{n}}{1 + 3^{n}}\\\\\n",
    "\\gt & a_{n}.\n",
    "\\end{align}\n",
    "Thus the sequence is increasing.  "
   ]
  },
  {
   "cell_type": "markdown",
   "metadata": {},
   "source": [
    "**Problem 5**: Let the sequence $\\{a_n\\}=\\{r^n\\}$. Find $\\varlimsup a_n$ and $\\varliminf a_n$ regarding the value of $r$."
   ]
  },
  {
   "cell_type": "markdown",
   "metadata": {},
   "source": [
    "Provide your answer here: \n",
    "\n",
    "So, taking $r\\in \\mathbb{R}$, we know from previous work that $\\lim_{n\\rightarrow \\infty}\\left|r\\right|^{n}=0$ if $|r|\\lt 1$.  Thus we have the first case\n",
    "\n",
    "+ for $|r| \\lt 1$, $\\overline{\\lim}_{n}a_{n} = \\underline{\\lim}_{n}a_{n} = 0$.\n",
    "\n",
    "Likewise, we see that if $r=1$ then \n",
    "\n",
    "+ for $r=1$, $r^{n}=1$, so $\\overline{\\lim}_{n}a_{n} = \\underline{\\lim}_{n}a_{n} = 1$.\n",
    "\n",
    "If $r=-1$, then $r^{n} = (-1)^{n}$, which takes us to the now familiar result  \n",
    "\n",
    "+ for $r=-1$, $r^{n}=(-1)^{n}$, so $\\overline{\\lim}_{n}a_{n} = 1, ~\\underline{\\lim}_{n}a_{n} = -1$.\n",
    "\n",
    "Now, for $r \\gt 1$ and $M \\gt 0$, looking at $r^{n} \\gt M$, we readily find the threshhold $N = \\lceil \\ln(M)/\\ln(r) \\rceil$, which proves that $\\lim_{n\\rightarrow\\infty}r^{n}=\\infty$. Thus we have that \n",
    "\n",
    "+ for $r>1$, since the sequence is unbounded from above, using Definition 3.11.2 and Theorem 3.11.4, we have that $\\overline{\\lim}_{n}a_{n} = \\underline{\\lim}_{n}a_{n} = \\infty$.\n",
    "\n",
    "Finally, for $r\\lt-1$, we look at the subsequences $a_{2k} = r^{2k} \\gt 0$ and $a_{2k+1}=r^{2k+1} \\lt 0$.  Clearly $a_{2k}$ is strictly increasing and unbounded from above, while $a_{2k+1}$ is strictly decreasing and unbounded from below.  Thus, by Definition 3.11.2 we have \n",
    "\n",
    "+ for $r<-1$, using Definition 3.11.2, we have $\\overline{\\lim}_{n}a_{n} = \\infty$, and $\\underline{\\lim}_{n}a_{n} = -\\infty$."
   ]
  },
  {
   "cell_type": "code",
   "execution_count": null,
   "metadata": {},
   "outputs": [],
   "source": []
  }
 ],
 "metadata": {
  "kernelspec": {
   "display_name": "Python 3",
   "language": "python",
   "name": "python3"
  },
  "language_info": {
   "codemirror_mode": {
    "name": "ipython",
    "version": 3
   },
   "file_extension": ".py",
   "mimetype": "text/x-python",
   "name": "python",
   "nbconvert_exporter": "python",
   "pygments_lexer": "ipython3",
   "version": "3.7.6"
  }
 },
 "nbformat": 4,
 "nbformat_minor": 1
}

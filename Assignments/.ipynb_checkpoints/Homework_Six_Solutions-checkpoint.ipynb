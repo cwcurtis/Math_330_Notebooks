{
 "cells": [
  {
   "cell_type": "markdown",
   "metadata": {},
   "source": [
    "## Homework Six Solutions\n",
    "\n",
    "**Problem 1**: Find all of the cluster points of the sequence\n",
    "$$\n",
    "a_{n} = \\sin\\left(\\frac{2\\pi}{5}n \\right) + \\frac{2n^{2}+1}{3n^{2}+2}, ~ n\\geq 1.\n",
    "$$"
   ]
  },
  {
   "cell_type": "markdown",
   "metadata": {},
   "source": [
    "**Provide your answer here**: \n",
    "\n",
    "So, as in class, we use the fact that for any $n\\in \\mathbb{N}$\n",
    "$$\n",
    "n = 5m + r, ~ m\\in \\mathbb{N}\\cup \\left\\{0\\right\\}, ~ r=0,1,2,3,4,\n",
    "$$\n",
    "so that \n",
    "\\begin{align}\n",
    "\\sin\\left(\\frac{2\\pi}{5}n\\right) = & \\sin\\left(\\frac{2\\pi}{5}(5m + r)\\right)\\\\\n",
    " = & \\sin\\left(2\\pi m + \\frac{2\\pi}{5}r\\right)\\\\\n",
    " = & \\sin\\left(\\frac{2\\pi}{5}r\\right)\\\\\n",
    "\\end{align}\n",
    "\n",
    "We see then that we get five distinct values from the trignometric term, so that we have five subsequences given by\n",
    "\\begin{align}\n",
    "a_{5m} = & \\frac{2+1/(5m)^{2}}{3+2/(5m)^{2}}\\\\\n",
    "a_{5m+1} = & \\sin\\left(\\frac{2\\pi}{5} \\right)+\\frac{2+1/(5m+1)^{2}}{3+2/(5m+1)^{2}}\\\\\n",
    "a_{5m+2} = & \\sin\\left(\\frac{4\\pi}{5} \\right)+\\frac{2+1/(5m+2)^{2}}{3+2/(5m+2)^{2}}\\\\\n",
    "a_{5m+3} = & -\\sin\\left(\\frac{4\\pi}{5} \\right)+\\frac{2+1/(5m+3)^{2}}{3+2/(5m+3)^{2}}\\\\\n",
    "a_{5m+4} = & -\\sin\\left(\\frac{2\\pi}{5} \\right)+\\frac{2+1/(5m+4)^{2}}{3+2/(5m+4)^{2}}\n",
    "\\end{align}\n",
    "\n",
    "Letting $m\\rightarrow \\infty$ and using Prop. 3.10.2, we then have the five cluster points $\\left\\{0,\\pm\\sin(2\\pi/5),\\pm\\sin(4\\pi/5)\\right\\}$."
   ]
  },
  {
   "cell_type": "markdown",
   "metadata": {},
   "source": [
    "**Problem 2**: Let $a > 0$ and define the sequence \n",
    "$$\n",
    "s_{n+1} = \\frac{1}{2}\\left(s_{n} + \\frac{a}{s_{n}}\\right), ~ n\\geq 1, ~ s_{1}>0.\n",
    "$$\n",
    "\n",
    "+ Show that $s_{n+1}\\geq \\sqrt{a}$ for $n \\geq 1$.  _Hint_: $s_{n}$ is a _real_ root of the quadratic equation $x^{2}-2s_{n+1}x + a$.  What does this mean with regards to the discriminant?\n",
    "\n",
    "+ Show $s_{n}$ is a decreasing sequence for $n\\geq 2$.  _Hint_: Look at the difference $s_{n}-s_{n+1}$.\n",
    "\n",
    "+ Which theorem guarantees that $\\lim_{n\\rightarrow \\infty}s_{n}$ exists?\n",
    "\n",
    "+ Find $\\lim_{n\\rightarrow \\infty}s_{n}$."
   ]
  },
  {
   "cell_type": "markdown",
   "metadata": {},
   "source": [
    "**Provide your answer here**: \n",
    "\n",
    "So by rearranging the iterative sequence, we see that \n",
    "$$\n",
    "s_{n}^{2} - 2s_{n+1}s_{n} + a = 0,\n",
    "$$\n",
    "which then implies \n",
    "$$\n",
    "s_{n} = \\frac{1}{2}\\left(2s_{n+1}\\pm\\sqrt{4s_{n+1}^{2}-4a} \\right).  \n",
    "$$\n",
    "Given that we have that $s_{n}$ is always a real number, then we must have that \n",
    "$$\n",
    "4s_{n+1}^{2} - 4a \\geq 0\n",
    "$$\n",
    "or \n",
    "$$\n",
    "s_{n+1} \\geq \\sqrt{a} > 0.\n",
    "$$\n",
    "\n",
    "Thus, looking at \n",
    "\\begin{align}\n",
    "s_{n+1}-s_{n} = & -\\frac{1}{2}s_{n} + \\frac{a}{2s_{n}}\\\\\n",
    "= & \\frac{1}{2s_{n}}\\left(a - s_{n}^{2} \\right)\\\\\n",
    "\\leq & 0,\n",
    "\\end{align}\n",
    "where the inequlity at the end comes from using $a-s_{n}^{2}\\leq 0$ and $s_{n}\\geq \\sqrt{a} > 0$ for $n\\geq 2$.\n",
    "\n",
    "Therefore, by the Monotone Convergence Theorem (Thm 3.8.1), we have that $\\lim_{n\\rightarrow \\infty}s_{n}$ exists.  Let it be $L$, so that we can then find $L$ by solving \n",
    "$$\n",
    "L = \\frac{1}{2}\\left( L + \\frac{a}{L} \\right),\n",
    "$$\n",
    "or $L^{2}=a$, so that $L=\\sqrt{a}$.  Thus we have an iterative sequence which computes the root of any given postive real number $a$.  "
   ]
  },
  {
   "cell_type": "markdown",
   "metadata": {},
   "source": [
    "**Problem 3**: Let $\\left\\{a_{n}\\right\\}_{n=1}^{\\infty}$ be a bounded sequence and for each $n\\in \\mathbb{N}$ let $s_{n} = \\sup_{k\\geq n} a_{k}$.  Let $S = \\inf_{n\\geq 1} s_{n}$.  Show that there exists a subsequence of $\\left\\{a_{n}\\right\\}_{n=1}^{\\infty}$ which converges to $S$."
   ]
  },
  {
   "cell_type": "markdown",
   "metadata": {},
   "source": [
    "**Provide your answer here**:\n",
    "\n",
    "So the first thing we need to see is that if \n",
    "\\begin{align}\n",
    "s_{n} = &\\sup \\left(\\left\\{a_{k}\\right\\}_{k=n}^{\\infty} \\right), \\\\\n",
    " = & \\sup \\left(\\left\\{a_{n}\\right\\}\\cup \\left\\{a_{k}\\right\\}_{k=n+1}^{\\infty} \\right),\n",
    "\\end{align}\n",
    "then comparing to \n",
    "$$\n",
    "s_{n+1} = \\sup \\left(\\left\\{a_{k}\\right\\}_{k=n+1}^{\\infty} \\right), \n",
    "$$\n",
    "we necessarily see that $s_{n+1}\\leq s_{n}$.  If $a_{n}$ is bounded, so that $\\exists M>0$ such that $-M\\leq a_{k}\\leq M$ for all $k$, then clearly $-M\\leq s_{n}\\leq M$ as well.  Thus by the Monotone Convergence Theorem (Thm 3.8.1), we have that \n",
    "$$\n",
    "S = \\inf_{n\\geq 1}s_{n} = \\lim_{n\\rightarrow \\infty}s_{n}.\n",
    "$$\n",
    "\n",
    "Likewise, using Prop. 3.7.1, we see that for each $s_{n}$, there is necessarily a subsequence $a_{k_{j}}\\rightarrow s_{n}$.  Thus, for $\\epsilon/2$, we must have that there exists natural numbers $N-1$ and $J_{N}$ such that \n",
    "$$\n",
    "\\left|s_{N} - S\\right| < \\frac{\\epsilon}{2}, ~ \\left| a_{k_{j}} - s_{N} \\right| < \\frac{\\epsilon}{2}, ~ j > J_{N}.\n",
    "$$\n",
    "Thus, we have that \n",
    "$$\n",
    "\\left|a_{k_{j}} - S\\right| < \\epsilon, ~ j > J_{N}.\n",
    "$$\n",
    "Therefore $S$ is a cluster point of the original sequence $\\left\\{a_{k}\\right\\}_{k=1}^{\\infty}$, and thus it must necessarily be the limit of some subsequence of the original sequence.  "
   ]
  },
  {
   "cell_type": "markdown",
   "metadata": {},
   "source": [
    "**Problem 4**: Using everything we have proven thus far in the class, what can you say, or not say, about the sequence $a_{n} = \\sin(n), ~ n\\geq 1$.  Does it converge?  Diverge?  Is it bounded?  Increasing?  Decreasing?  Does it have at least one cluster point?  If so, can you determine one?"
   ]
  },
  {
   "cell_type": "markdown",
   "metadata": {},
   "source": [
    "**Provide your answer here**: \n",
    "\n",
    "So this problem was meant to be a bit playful.  Some things about it are relatively straightforward to show.  For example, we readily see that \n",
    "$$\n",
    "\\left|a_{n} \\right| \\leq 1,\n",
    "$$\n",
    "so that the sequence is bounded, and thus by Thm 3.10.3, the sequence has at least one cluster point.  But we can see that this is about as much as we can hope to easily say about the sequence since it should otherwise not be monotonic, and there is no obvious limit to which the sequence converged.  \n",
    "\n",
    "Were that the case, we should be able to at least show the sequence is Cauchy, but if we look at \n",
    "$$\n",
    "\\left|\\sin\\left(n+1\\right)-\\sin\\left(n\\right)\\right| = \\left|\\sin(n)(\\cos(1)-1)+\\cos(n)\\sin(1) \\right|\n",
    "$$\n",
    "then the only way to make this small is to have \n",
    "$$\n",
    "\\tan(n) \\approx \\frac{\\sin(1)}{1-\\cos(1)},\n",
    "$$\n",
    "but this can only hold for certain $n$ since $\\tan(n)$ is monotonic over the intervals over which it is defined.  Thus the sequence cannot be Cauchy, and thus it cannot have a limit.  \n",
    "\n",
    "A thought provoking question though is whether $a_{n}=\\sin(n)$ oscillates fast enough such that the set of its cluster points is the entire interval $[-1,1]$.  How to show this one way or the other though is not straightforward.  To see why, suppose we wanted to show $0$ is a cluster point of $a_{n}$.  Well, to do that, we need to use the fact that $\\sin(m \\pi)=0$ for integer value $m$.  But $m\\pi$ is not a rational number, much less an integer, so which values of $n$ will get us near $m\\pi$?\n",
    "\n",
    "Well, we know that for example that \n",
    "$$\n",
    "\\pi = 3.14159\\cdots\n",
    "$$\n",
    "so that $100\\pi = 314.159\\cdots$.  Thus if we look at $\\sin(314)$ we see that \n",
    "\\begin{align}\n",
    "\\sin(314) = &\\sin(314-100\\pi + 100\\pi)\\\\\n",
    "= &\\sin(314-100\\pi) \\\\\n",
    "= &\\sin(.159\\cdots) \\\\\n",
    "\\approx & .159\\cdots\n",
    "\\end{align}\n",
    "Now, to do better, we need to find a $0$ in the decimal representation of $\\pi$, i.e. we need to find \n",
    "$$\n",
    "\\pi = 3.14159\\cdots a_{n-1} 0 a_{n+1} \\cdots\n",
    "$$\n",
    "so that $10^{n-1}\\pi - 314159\\cdots a_{n-1} = a_{n+1}/10^{2} + \\cdots$ so that \n",
    "$$\n",
    "\\sin\\left(314159\\cdots a_{n-1}\\right) \\approx \\frac{a_{n+1}}{10^{2}} + \\cdots\n",
    "$$\n",
    "Note, the first $0$ in the decimal representation of $\\pi$ happens at the 32nd digit (pretty sure), so $n=32$.  \n",
    "\n",
    "To get better yet still, we would then need to find a sequence of two zeros and so forth.  The ability to do this within $\\pi$ is likely possible, but has not been rigorously established.  Neat.  "
   ]
  },
  {
   "cell_type": "code",
   "execution_count": 0,
   "metadata": {},
   "outputs": [],
   "source": []
  }
 ],
 "metadata": {
  "kernelspec": {
   "display_name": "Python 3",
   "language": "python",
   "name": "python3"
  },
  "language_info": {
   "codemirror_mode": {
    "name": "ipython",
    "version": 3
   },
   "file_extension": ".py",
   "mimetype": "text/x-python",
   "name": "python",
   "nbconvert_exporter": "python",
   "pygments_lexer": "ipython3",
   "version": "3.7.6"
  }
 },
 "nbformat": 4,
 "nbformat_minor": 1
}

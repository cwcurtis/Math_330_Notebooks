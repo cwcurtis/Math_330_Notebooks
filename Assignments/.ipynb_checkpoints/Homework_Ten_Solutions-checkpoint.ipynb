{
 "cells": [
  {
   "cell_type": "markdown",
   "metadata": {},
   "source": [
    "## Homework Ten: Due 4/17/20\n",
    "\n",
    "**Problem 1**: Let $\\left\\{a_{n}\\right\\}_{n=1}^{\\infty}$ be a bounded sequence.  Let \n",
    "$$\n",
    "s_{n} = \\inf_{k\\gt n} a_{k},\n",
    "$$\n",
    "and let $S=\\sup_{n\\geq 1}s_{n}$.  Show that there is a subsequence of $a_{n}$ which converges to $S$.  Prove this two ways.  \n",
    "    \n",
    "   * In the first proof, show $s_{n}$ is bounded and increasing.  Proceed to show that $S$ is a cluster point of the original sequence.  \n",
    "   * In the second proof, use the fact that $\\forall \\epsilon \\gt 0$, $\\exists K \\geq n$ such that $a_{K} \\lt s_{n} + \\epsilon$.  Likewise, you will need to use the fact that $\\forall \\epsilon \\gt 0$, $\\exists N \\in \\mathbb{N}$ such that $S \\lt s_{N} + \\epsilon$.\n"
   ]
  },
  {
   "cell_type": "markdown",
   "metadata": {},
   "source": [
    "_Provide your answer here_ :\n",
    "\n",
    "#### First Proof:\n",
    "\n",
    "So, if we look at $s_{n}$, we see that \n",
    "$$\n",
    "s_{n} = \\inf\\left\\{ \\left\\{a_{k}\\right\\}_{k=n+1}^{\\infty} \\right\\}= \\inf\\left\\{ a_{n+1}\\cup \\left\\{a_{k}\\right\\}_{k=n+2}^{\\infty}\\right\\} \\leq \\inf\\left\\{ \\left\\{a_{k}\\right\\}_{k=n+2}^{\\infty}\\right\\} = s_{n+1}.\n",
    "$$\n",
    "Given that we suppose that $a_{n}$ is bounded, i.e. $\\exists M\\gt 0$ such that $|a_{n}|\\leq M$ for all $n\\geq 1$, then since \n",
    "$$\n",
    "s_{n} \\leq a_{k}, ~ k\\gt n \n",
    "$$\n",
    "then $s_{n}\\lt M$ for all $n$.  Thus, by the Monotone Convergence Theorem, we must have that \n",
    "$$\n",
    "S = \\lim_{n\\rightarrow \\infty}s_{n}.\n",
    "$$\n",
    "Thus, for say $\\epsilon/2$, there must exist some $N$ such that $|s_{n}-S|\\lt \\epsilon/2$ for $n\\gt N$.\n",
    "\n",
    "Likewise, for each $s_{n}$, by Proposition 3.7.1, there must exist some subsequence $a_{k_{j}}$, $k_{j}\\gt n$ such that \n",
    "$$\n",
    "\\lim_{j\\rightarrow \\infty} a_{k_{j}} = s_{n}.\n",
    "$$\n",
    "Thus, taking $n\\gt N$ from above, for $\\epsilon/2$, there exists some $J$ such that $|a_{k_{j}}-s_{n}|\\lt \\epsilon/2$ for $j\\gt J$.  Thus, we see that \n",
    "$$\n",
    "\\left|a_{k_{j}} - S\\right|\\leq |a_{k_{j}}-s_{n}| + |s_{n}-S| \\lt \\epsilon, ~ j\\gt J.\n",
    "$$\n",
    "Therefore, $S$ is a cluster point of the original sequence, and thus there must be a subsquence which converges to it.  \n",
    "\n",
    "#### Second Proof (from Lecture on 4/10):\n",
    "\n",
    "So here, we want to use the Greatest Lower Bound (GLB) property of the infimum and the Least Upper Bound (LUB) property of the supremum.  By this, we mean \n",
    "* (GLB) $\\forall \\epsilon\\gt 0 ~\\exists K\\gt n, ~ a_{K}\\lt s_{n} + \\epsilon$\n",
    "* (LUB) $\\forall \\epsilon\\gt 0 ~\\exists N \\in \\mathbb{N}, ~ S \\lt s_{N} + \\epsilon$.\n",
    "\n",
    "So, since $\\inf$ is a lower bound, we have that \n",
    "$$\n",
    "s_{n}\\leq a_{k}, ~ \\forall k\\geq n.\n",
    "$$\n",
    "Thus, if we join this with the LUB property, we have shown that \n",
    "$$\n",
    "\\forall \\epsilon \\gt 0 ~ \\exists N \\in \\mathbb{N}, ~ S-\\epsilon \\lt a_{N+k}, ~ \\forall k\\geq 0.\n",
    "$$\n",
    "\n",
    "Likewise, since $\\sup$ is an upper bound, we naturally have that \n",
    "$$\n",
    "s_{n} \\leq S. \n",
    "$$\n",
    "Thus, if we join this with the GLB property, we have shown that \n",
    "$$\n",
    "\\forall \\epsilon \\gt 0 ~ \\exists K \\geq n, ~ a_{K} \\lt S + \\epsilon.\n",
    "$$\n",
    "\n",
    "To combine these results to get the final proof, we fix $\\epsilon$ and see that there is an $N$ such that \n",
    "$$\n",
    "S-\\epsilon \\lt a_{N+k}, ~ \\forall k\\geq 0\n",
    "$$\n",
    "we can then find a $K_{0} = N+k_{0}\\gt N$ such that \n",
    "$$\n",
    "S - \\epsilon \\lt a_{K_{0}},\n",
    "$$\n",
    "and\n",
    "$$\n",
    "a_{K_{0}} \\lt S + \\epsilon.\n",
    "$$\n",
    "Therefore we have shown that \n",
    "$$\n",
    "\\left|a_{K_{0}} - S\\right| \\lt \\epsilon.\n",
    "$$\n",
    "\n",
    "Iterating on this, we can find a $K_{1}\\gt K_{0}$ such that \n",
    "$$\n",
    "S - \\epsilon \\lt a_{K_{1}} \\lt S + \\epsilon,\n",
    "$$\n",
    "and thus we can find a $K_{2}\\gt K_{1}$, and so on and so forth.  Thus we see $S$ is a cluster point of the sequence, and therefore it must be the limit of a subsequence. "
   ]
  },
  {
   "cell_type": "markdown",
   "metadata": {},
   "source": [
    "**Problem 2**: Prove that $f(x) = 1/x^{2}$ is uniformly continuous for any interval $(-\\infty,-\\delta]$, where $\\delta \\gt0$.  "
   ]
  },
  {
   "cell_type": "markdown",
   "metadata": {},
   "source": [
    "_Provide your answer here_ :\n",
    "\n",
    "So, letting $x,x_{0}\\in (-\\infty,-\\delta ]$, we have \n",
    "$$\n",
    "\\left|\\frac{1}{x^{2}}-\\frac{1}{x_{0}^{2}} \\right| = \\frac{|x-x_{0}||x+x_{0}|}{x^{2}x_{0}^{2}} \\leq |x-x_{0}|\\left(\\frac{1}{|x|x_{0}^{2}} + \\frac{1}{x^{2}|x_{0}|} \\right).\n",
    "$$\n",
    "Given that $x,x_{0}\\leq -\\delta$, then we have that $|x|,|x_{0}|\\geq \\delta$, and therefore \n",
    "$$\n",
    "\\frac{1}{|x|x_{0}^{2}} + \\frac{1}{x^{2}|x_{0}|} \\leq \\frac{2}{\\delta^{3}}.\n",
    "$$\n",
    "Thus, we get\n",
    "$$\n",
    "\\left|\\frac{1}{x^{2}}-\\frac{1}{x_{0}^{2}} \\right| \\leq \\frac{2}{\\delta^{3}}|x-x_{0}| \\lt \\epsilon,\n",
    "$$\n",
    "so we take $\\tilde{\\delta} = \\epsilon \\delta^{3}/2$, so that \n",
    "$$\n",
    "\\forall \\epsilon \\gt 0, ~ \\exists \\tilde{\\delta} = \\epsilon \\delta^{3}/2, ~ |x-x_{0}|\\lt \\delta \\rightarrow \\left|\\frac{1}{x^{2}}-\\frac{1}{x_{0}^{2}} \\right| \\lt \\epsilon.   \n",
    "$$\n",
    "Since $\\tilde{\\delta}$ holds for any points $x,x_{0}\\in (-\\infty,-\\delta]$, we have shown that $f(x)=1/x^{2}$ is uniformly continuous over the interval.  "
   ]
  },
  {
   "cell_type": "markdown",
   "metadata": {},
   "source": [
    "**Problem 3**: Prove that $f(x)=1/x^{2}$ is continuous on the interval $(-\\infty,0)$ but not uniformly continuous.  "
   ]
  },
  {
   "cell_type": "markdown",
   "metadata": {},
   "source": [
    "_Provide your answer here_ :\n",
    "\n",
    "From above, we have \n",
    "$$\n",
    "\\left|\\frac{1}{x^{2}}-\\frac{1}{x_{0}^{2}} \\right| \\leq |x-x_{0}|\\left(\\frac{1}{|x|x_{0}^{2}} + \\frac{1}{x^{2}|x_{0}|} \\right).\n",
    "$$\n",
    "Since we no longer have a fixed lower bound on $|x|$ and $|x_{0}|$, we must use the continuity of $x$ to get \n",
    "$$\n",
    "|x| = |x-x_{0} + x_{0}|\\geq ||x_{0}|-|x-x_{0}|| \\geq \\frac{1}{2}|x_{0}|\n",
    "$$\n",
    "for $|x-x_{0}|\\lt |x_{0}|/2$.  Thus, we have that \n",
    "$$\n",
    "\\left|\\frac{1}{x^{2}}-\\frac{1}{x_{0}^{2}} \\right| \\leq |x-x_{0}| \\frac{6}{|x_{0}|^{3}} \\lt \\epsilon.\n",
    "$$\n",
    "We then set $\\delta = \\min\\left\\{\\epsilon |x_{0}|^{3}/6, |x_{0}|/2\\right\\}$, which while establishing continuity of $f(x)=1/x^{2}$ on $(-\\infty,0)$, clearly prevents any uniform bound to be found since $\\delta$ must depend on $x_{0}$.   "
   ]
  },
  {
   "cell_type": "markdown",
   "metadata": {},
   "source": [
    "**Problem 4**: On a given interval $I$, if for all $x,y\\in I$ there exists a postive real number $K\\gt0$ such that \n",
    "$$\n",
    "\\left|f(x)-f(y) \\right| \\lt K \\left|x-y \\right|\n",
    "$$\n",
    "we say that $f(x)$ is a _Lipschitz_ function on the interval $I$.  Show that if $f(x)$ is a Lipshcitz function on an interval $I$, it is uniformly continuous on the interval $I$.  "
   ]
  },
  {
   "cell_type": "markdown",
   "metadata": {},
   "source": [
    "_Provide your answer here_ :\n",
    "\n",
    "Using the inequality, for a given $\\epsilon \\gt 0$ we see that \n",
    "$$\n",
    "\\left|f(x)-f(y) \\right| \\lt K \\left|x-y \\right| \\lt \\epsilon,\n",
    "$$\n",
    "so that $|x-y| \\lt \\delta = \\epsilon/K$.  We see that the $\\delta$ bound holds for all $x,y \\in I$, and therefore we see that Lipschitz continuity implies uniform continuity over the interval $I$. "
   ]
  },
  {
   "cell_type": "markdown",
   "metadata": {},
   "source": [
    "**Problem 5**: Let $f,g : \\mathbb{R}\\rightarrow \\mathbb{R}$ be continuous at a point $x_{0}\\in \\mathbb{R}$.  Let \n",
    "$$\n",
    "h(x) = \\sup\\left\\{f(x),g(x)\\right\\}.\n",
    "$$\n",
    "* Show that $h(x) = \\frac{1}{2}(f(x)+g(x)) + \\frac{1}{2}\\left|f(x)-g(x) \\right|$\n",
    "* Show that $h(x)$ is continuous at $x_{0}$."
   ]
  },
  {
   "cell_type": "markdown",
   "metadata": {},
   "source": [
    "_Provide your answer here_ :\n",
    "\n",
    "For the first part, suppose that $f(x)\\geq g(x)$ so that \n",
    "$$\\sup\\left\\{f(x),g(x)\\right\\}=f(x).\n",
    "$$  \n",
    "Then\n",
    "$$\n",
    "\\left|f(x)-g(x) \\right| = f(x) - g(x)\n",
    "$$\n",
    "and we see that \n",
    "$$\n",
    "h(x) = \\frac{1}{2}(f(x)+g(x)) + \\frac{1}{2}(f(x)-g(x)) = f(x) = \\sup\\left\\{f(x),g(x)\\right\\}.\n",
    "$$\n",
    "\n",
    "In the other case, we suppose that $g(x)\\geq f(x)$ so that \n",
    "$$\n",
    "\\sup\\left\\{f(x),g(x)\\right\\}=g(x).  \n",
    "$$\n",
    "Then\n",
    "$$\n",
    "\\left|f(x)-g(x) \\right| = g(x) - f(x)\n",
    "$$\n",
    "and we see that \n",
    "$$\n",
    "h(x) = \\frac{1}{2}(f(x)+g(x)) + \\frac{1}{2}(g(x)-f(x)) = g(x) = \\sup\\left\\{f(x),g(x)\\right\\}.\n",
    "$$\n",
    "Therefore, in all cases we see that \n",
    "$$\n",
    "h(x) = \\sup\\left\\{f(x),g(x)\\right\\}.\n",
    "$$\n",
    "\n",
    "As for continuity, by the properties of continuity, we know that $(f(x)+g(x))/2$ and $(f(x)-g(x))/2$ are continuous at $x_{0}$.  Moreover, we know that if a function $\\tilde{f}(x)$ is continuous at $x_{0}$, then $|\\tilde{f}(x)|$ is as well.  Thus, $|(f(x)-g(x))|/2$ must be continuous at $x_{0}$.  Therefore we see that $h(x)$ is the sum of two continuous functions at $x_{0}$, and thus is itself continuous at $x_{0}$.  "
   ]
  },
  {
   "cell_type": "code",
   "execution_count": null,
   "metadata": {},
   "outputs": [],
   "source": []
  }
 ],
 "metadata": {
  "kernelspec": {
   "display_name": "Python 3",
   "language": "python",
   "name": "python3"
  },
  "language_info": {
   "codemirror_mode": {
    "name": "ipython",
    "version": 3
   },
   "file_extension": ".py",
   "mimetype": "text/x-python",
   "name": "python",
   "nbconvert_exporter": "python",
   "pygments_lexer": "ipython3",
   "version": "3.7.6"
  }
 },
 "nbformat": 4,
 "nbformat_minor": 1
}

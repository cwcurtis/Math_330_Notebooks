{
 "cells": [
  {
   "cell_type": "markdown",
   "metadata": {},
   "source": [
    "## Homework Nine: Due 4/8/20\n",
    "\n",
    "**Problem 1**: Prove that $$\\lim_{x\\to \\infty} \\frac{2+3x+x^{2}}{2x^{2}-3}=\\frac{1}{2}$$\n"
   ]
  },
  {
   "cell_type": "markdown",
   "metadata": {},
   "source": [
    "Provide your answer here: "
   ]
  },
  {
   "cell_type": "markdown",
   "metadata": {},
   "source": [
    "**Problem 2**: Prove that $f(x) = |x|$ is continuous for all $x\\in\\mathbb{R}$."
   ]
  },
  {
   "cell_type": "markdown",
   "metadata": {},
   "source": [
    "Provide your answer here:"
   ]
  },
  {
   "cell_type": "markdown",
   "metadata": {},
   "source": [
    "**Problem 3**: Prove that $f(x)=\\tan(x)$ is continuous for $x\\in[0,\\pi/2)$.  "
   ]
  },
  {
   "cell_type": "markdown",
   "metadata": {},
   "source": [
    "Provide your answer here:"
   ]
  },
  {
   "cell_type": "markdown",
   "metadata": {},
   "source": [
    "**Problem 4**: Prove that $\\lim_{x\\rightarrow\\pi/2^{-}}\\tan(x)=\\infty$.  "
   ]
  },
  {
   "cell_type": "markdown",
   "metadata": {},
   "source": [
    "Provide your answer here: "
   ]
  },
  {
   "cell_type": "markdown",
   "metadata": {},
   "source": [
    "**Problem 5**: Show that if $f(x)$ and $g(x)$ are continuous at a point $x_{0}\\in\\mathbb{R}$, then \n",
    "+ $f(x)+g(x)$ is continuous at $x_{0}$\n",
    "+ $f(x)g(x)$ is continuous at $x_{0}$\n",
    "+ If $g(x_{0})\\neq 0$, $f(x)/g(x)$ is continuous at $x_{0}$."
   ]
  },
  {
   "cell_type": "markdown",
   "metadata": {},
   "source": [
    "Provide your answer here: "
   ]
  },
  {
   "cell_type": "markdown",
   "metadata": {},
   "source": [
    "**Problem 6**: Using the previous problem, show that any polynomial of the form $\\pi(x) =\\sum_{m=0}^{n}a_{m}x^{m}$ is continuous for all $x\\in\\mathbb{R}$."
   ]
  },
  {
   "cell_type": "markdown",
   "metadata": {},
   "source": [
    "Provide your answer here:"
   ]
  },
  {
   "cell_type": "markdown",
   "metadata": {},
   "source": [
    "**Problem 7**: Let $f:\\mathbb{R}\\rightarrow \\mathbb{R}$ be a function such that $f(x+y)=f(x)+f(y)$.  Assume that $\\lim_{x\\rightarrow 0}f(x)=L$ exists.  \n",
    "+ Prove that $L=0$.  _Hint_ : use $f(x+x)=f(x)+f(x)=2f(x)$.    \n",
    "+ Prove that $f(x)$ is continuous for all $x\\in \\mathbb{R}$.  _Hint_ : use $f(x)=f(x-x_{0}+x_{0})=f(x-x_{0})+f(x_{0})$.    "
   ]
  },
  {
   "cell_type": "markdown",
   "metadata": {},
   "source": [
    "Provide your answer here:"
   ]
  },
  {
   "cell_type": "code",
   "execution_count": null,
   "metadata": {},
   "outputs": [],
   "source": []
  }
 ],
 "metadata": {
  "kernelspec": {
   "display_name": "Python 3",
   "language": "python",
   "name": "python3"
  },
  "language_info": {
   "codemirror_mode": {
    "name": "ipython",
    "version": 3
   },
   "file_extension": ".py",
   "mimetype": "text/x-python",
   "name": "python",
   "nbconvert_exporter": "python",
   "pygments_lexer": "ipython3",
   "version": "3.7.6"
  }
 },
 "nbformat": 4,
 "nbformat_minor": 1
}

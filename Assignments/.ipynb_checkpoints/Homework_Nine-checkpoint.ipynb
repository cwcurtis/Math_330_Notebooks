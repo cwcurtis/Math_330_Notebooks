{
 "cells": [
  {
   "cell_type": "markdown",
   "metadata": {},
   "source": [
    "## Homework Nine: Due 4/8/20\n",
    "\n",
    "**Problem 1**: Prove that $$\\lim_{x\\to \\infty} \\frac{2+3x+x^{2}}{2x^{2}-3}=\\frac{1}{2}$$\n"
   ]
  },
  {
   "cell_type": "markdown",
   "metadata": {},
   "source": [
    "Provide your answer here: \n",
    "\n",
    "Were I you, I would start this as \n",
    "\\begin{align}\n",
    "\\left|\\frac{2+3x+x^{2}}{2x^{2}-3}-\\frac{1}{2} \\right| = & \\frac{1}{2}\\left|\\frac{1+3/x+2/x^{2}}{1-3/(2x^{2})}-1 \\right|\\\\\n",
    "= & \\frac{1}{2|x|}\\left|\\frac{3+7/(2x)}{1-3/(2x^{2})}\\right|\n",
    "\\end{align}\n",
    "Then I would make sure that $x\\gt\\sqrt{3/2}$.  Taking $x\\geq 2$ should suffice.  Hope that helps.  "
   ]
  },
  {
   "cell_type": "markdown",
   "metadata": {},
   "source": [
    "**Problem 2**: Prove that $f(x) = |x|$ is continuous for all $x\\in\\mathbb{R}$."
   ]
  },
  {
   "cell_type": "markdown",
   "metadata": {},
   "source": [
    "Provide your answer here:"
   ]
  },
  {
   "cell_type": "markdown",
   "metadata": {},
   "source": [
    "**Problem 3**: Prove that $f(x)=\\tan(x)$ is continuous for $x\\in[0,\\pi/2)$.  "
   ]
  },
  {
   "cell_type": "markdown",
   "metadata": {},
   "source": [
    "Provide your answer here: \n",
    "\n",
    "Were I you, letting $x_{0}\\in[0,\\pi/2)$, I would start this as\n",
    "\\begin{align}\n",
    "\\left|\\tan(x) -\\tan(x_{0})\\right| = & \\left|\\frac{\\sin(x)}{\\cos(x)} -\\frac{\\sin(x_{0})}{\\cos(x_{0})} \\right| \\\\\n",
    "= & \\left|\\frac{\\sin(x)\\cos(x_{0})-\\cos(x)\\sin(x_{0})}{\\cos(x)\\cos(x_{0})} \\right|\\\\\n",
    "= & \\left|\\frac{\\sin(x-x_{0})}{\\cos(x)\\cos(x_{0})} \\right|\\\\\n",
    "= & \\left|\\frac{\\sin(x-x_{0})}{\\left(\\cos(x)-\\cos(x_{0})+\\cos(x_{0})\\right)\\cos(x_{0})} \\right|\\\\\n",
    "\\leq & \\frac{\\left|\\sin(x-x_{0})\\right|}{\\left|\\cos(x_{0})\\right|}\\frac{1}{\\left|\\left|\\cos(x)-\\cos(x_{0})\\right|-\\left|\\cos(x_{0})\\right|\\right|}\n",
    "\\end{align}"
   ]
  },
  {
   "cell_type": "markdown",
   "metadata": {},
   "source": [
    "**Problem 4**: Prove that $\\lim_{x\\rightarrow\\pi/2^{-}}\\tan(x)=\\infty$.  "
   ]
  },
  {
   "cell_type": "markdown",
   "metadata": {},
   "source": [
    "Provide your answer here: "
   ]
  },
  {
   "cell_type": "markdown",
   "metadata": {},
   "source": [
    "**Problem 5**: Show that if $f(x)$ and $g(x)$ are continuous at a point $x_{0}\\in\\mathbb{R}$, then \n",
    "+ $f(x)+g(x)$ is continuous at $x_{0}$\n",
    "+ $f(x)g(x)$ is continuous at $x_{0}$\n",
    "+ If $g(x_{0})\\neq 0$, $f(x)/g(x)$ is continuous at $x_{0}$."
   ]
  },
  {
   "cell_type": "markdown",
   "metadata": {},
   "source": [
    "Provide your answer here: "
   ]
  },
  {
   "cell_type": "markdown",
   "metadata": {},
   "source": [
    "**Problem 6**: Using the previous problem, show that any polynomial of the form $\\pi(x) =\\sum_{m=0}^{n}a_{m}x^{m}$ is continuous for all $x\\in\\mathbb{R}$."
   ]
  },
  {
   "cell_type": "markdown",
   "metadata": {},
   "source": [
    "Provide your answer here:"
   ]
  },
  {
   "cell_type": "markdown",
   "metadata": {},
   "source": [
    "**Problem 7**: Let $f:\\mathbb{R}\\rightarrow \\mathbb{R}$ be a function such that $f(x+y)=f(x)+f(y)$.  Assume that $\\lim_{x\\rightarrow 0}f(x)=L$ exists.  \n",
    "+ Prove that $L=0$.  _Hint_ : use $f(x+x)=f(x)+f(x)=2f(x)$.    \n",
    "+ Prove that $f(x)$ is continuous for all $x\\in \\mathbb{R}$.  _Hint_ : use $f(x)=f(x-x_{0}+x_{0})=f(x-x_{0})+f(x_{0})$.    "
   ]
  },
  {
   "cell_type": "markdown",
   "metadata": {},
   "source": [
    "Provide your answer here:  \n",
    "\n",
    "So a great way to start the first problem is to note that \n",
    "$$\n",
    "f(x) = f\\left(\\frac{x}{2} + \\frac{x}{2}\\right) = 2f\\left(\\frac{x}{2}\\right)\n",
    "$$\n",
    "Thus, choosing the sequence $x_{n}=1/2^{n}$, $n\\geq 1$, then we see that $x_{n+1}=x_{n}/2$, and thus \n",
    "$$\n",
    "f(x_{n+1}) = f\\left(\\frac{x_{n}}{2}\\right) = \\frac{1}{2}f(x_{n}).  \n",
    "$$\n",
    "Therefore we see that\n",
    "$$\n",
    "f(x_{n+1}) = \\frac{1}{2^{n}}f(x_{1}), ~ n\\geq 1.  \n",
    "$$\n",
    "Using THM 4.1.1 from the book will take care of the rest.  "
   ]
  },
  {
   "cell_type": "code",
   "execution_count": null,
   "metadata": {},
   "outputs": [],
   "source": []
  }
 ],
 "metadata": {
  "kernelspec": {
   "display_name": "Python 3",
   "language": "python",
   "name": "python3"
  },
  "language_info": {
   "codemirror_mode": {
    "name": "ipython",
    "version": 3
   },
   "file_extension": ".py",
   "mimetype": "text/x-python",
   "name": "python",
   "nbconvert_exporter": "python",
   "pygments_lexer": "ipython3",
   "version": "3.7.6"
  }
 },
 "nbformat": 4,
 "nbformat_minor": 1
}

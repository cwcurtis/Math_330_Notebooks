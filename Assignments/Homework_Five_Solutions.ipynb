{
 "cells": [
  {
   "cell_type": "markdown",
   "metadata": {},
   "source": [
    "## Homework Five Solutions\n",
    "\n",
    "**Problem 1**: Suppose we have a sequence of real numbers $\\left\\{a_{n}\\right\\}_{n=1}^{\\infty}$ such that $a_{n}>0$ and $\\lim_{n\\rightarrow \\infty}a_{n} = 1$.  Prove (this means all of the rigorous details must be included) that \n",
    "$$\n",
    "\\lim_{n\\rightarrow \\infty}\\left(\\prod_{j=1}^{n}a_{j} \\right)^{1/n} = 1, ~ \\mbox{where} ~ \\prod_{j=1}^{n}a_{j} = a_{1}a_{2}\\cdots a_{n}.\n",
    "$$\n",
    "Note, \n",
    "$$\n",
    " \\ln\\left(\\left(a_{1}a_{2}\\right)^{1/2}\\right) = \\frac{1}{2}\\left(\\ln\\left(a_{1}\\right) + \\ln\\left(a_{2}\\right) \\right).\n",
    "$$\n",
    "\n",
    "_Solution_ : So by taking logarithms, we see that \n",
    "$$\n",
    "\\ln \\left(\\left(\\prod_{j=1}^{n}a_{j} \\right)^{1/n} \\right) = \\frac{1}{n}\\sum_{j=1}^{n}\\ln(a_{j})\n",
    "$$\n",
    "Thus, if we let $\\tilde{a}_{n}=\\ln(a_{n})$, then if $\\lim_{n\\rightarrow \\infty}a_{n}=1$, we must necessarily have that $\\lim_{n\\rightarrow \\infty}\\tilde{a}_{n}=0$.  Letting $N$ then be that natural number such that $|\\tilde{a}_{n}|<\\epsilon/2$ for $n>N$, we have \n",
    "\\begin{align}\n",
    "\\left|\\frac{1}{n}\\sum_{j=1}^{n}\\tilde{a}_{j}\\right|\\leq & \\frac{1}{n}\\sum_{j=1}^{N}\\left|\\tilde{a}_{j}\\right| + \\frac{1}{n}\\sum_{j=N+1}^{n}\\left|\\tilde{a}_{j}\\right|, \\\\\n",
    "\\leq & \\frac{1}{n}\\sum_{j=1}^{N}\\left|\\tilde{a}_{j}\\right| + \\frac{\\epsilon}{2}\\frac{n-N}{n},\\\\\n",
    "\\leq & \\frac{1}{n}\\sum_{j=1}^{N}\\left|\\tilde{a}_{j}\\right| + \\frac{\\epsilon}{2}.\n",
    "\\end{align}\n",
    "If we then take $n>\\max\\left\\{\\tilde{N},N\\right\\}$ where \n",
    "$$\n",
    "\\tilde{N} = \\left\\lceil \\frac{2}{\\epsilon} \\left(\\sum_{j=1}^{N}\\left|\\tilde{a}_{j}\\right| \\right)^{-1}\\right\\rceil,\n",
    "$$\n",
    "we have that \n",
    "$$\n",
    "\\left|\\frac{1}{n}\\sum_{j=1}^{n}\\tilde{a}_{j}\\right|\\leq\\frac{\\epsilon}{2} + \\frac{\\epsilon}{2} = \\epsilon.\n",
    "$$\n",
    "\n",
    "Thus, we have shown \n",
    "$$\n",
    "\\lim_{n\\rightarrow \\infty}\\ln \\left(\\prod_{j=1}^{n}a_{j} \\right)^{1/n} = 0,\n",
    "$$\n",
    "and we therefore infer that\n",
    "$$\n",
    "\\lim_{n\\rightarrow \\infty} \\left(\\prod_{j=1}^{n}a_{j} \\right)^{1/n} = 1,\n",
    "$$\n",
    "which is the desired result. "
   ]
  },
  {
   "cell_type": "markdown",
   "metadata": {},
   "source": [
    "**Problem 2**: Let $S$ be the set of points defined by \n",
    "$$\n",
    "S=\\left\\{1-\\frac{(-1)^n}{n}: n\\in\\mathbb{N}\\right\\}.\n",
    "$$\n",
    "Show that $\\sup S=2$ and $\\inf S=\\frac{1}{2}$.\n",
    "\n",
    "_Solution_ : Letting \n",
    "$$\n",
    "s_{n} = 1 - \\frac{(-1)^{n}}{n}, \n",
    "$$\n",
    "then we have that \n",
    "$$\n",
    "s_{2k} = 1 - \\frac{1}{2k}, ~ s_{2k-1} = 1 + \\frac{1}{2k-1}, ~ k\\in \\mathbb{N}\n",
    "$$\n",
    "We see that $s_{2k}$ is strictly increasing, while $s_{2k-1}$ is strictly decreasing, and that both sequences clearly have a limit of $1$ as $k\\rightarrow\\infty$.  Given that $s_{1}=2$ and $s_{2}=1/2$, we must have that $1/2\\leq s_{n}\\leq 2$ and thus \n",
    "$$\n",
    "\\sup S=2, ~ \\inf S=\\frac{1}{2}\n",
    "$$"
   ]
  },
  {
   "cell_type": "markdown",
   "metadata": {},
   "source": [
    "**Problem 3**: Show whether the following sequences are increasing, decreasing or neither.\n",
    "+ $a_n=\\frac{n!}{2^n}$\n",
    "+ $a_n=ne^{-n}$\n",
    "\n",
    "_Solution_ : For the first problem, we note that \n",
    "$$\n",
    "\\frac{a_{n+1}}{a_{n}} = \\frac{(n+1)!}{2^{n+1}}\\frac{2^{n}}{n!} = \\frac{n+1}{2} \\geq 1, ~ \\mbox{if} ~n\\geq 1\n",
    "$$\n",
    "Thus we see that the sequence is increasing.  \n",
    "\n",
    "For the second problem, using a similar argument we see that \n",
    "$$\n",
    "\\frac{a_{n+1}}{a_{n}} = \\frac{n+1}{e^{n+1}}\\frac{e^{n}}{n} = \\frac{n+1}{ne} = \\frac{1}{e}\\left(1 + \\frac{1}{n} \\right)\n",
    "$$\n",
    "If we use the fact that \n",
    "$$\n",
    "1 + \\frac{1}{n} \\leq 2, ~ \\mbox{for} ~ n\\geq1,\n",
    "$$\n",
    "and likewise use the fact that $2<e<3$, we have that $a_{n+1}<a_{n}$, and thus the sequence is decreasing.  "
   ]
  },
  {
   "cell_type": "markdown",
   "metadata": {},
   "source": [
    "**Problem 4** : Let the sequence $\\{a_n\\}_{n\\in\\mathbb{N}}$ be defined by the recursion: $a_{n+1}=\\sqrt{3+2a_n}$ with $a_1=1$.\n",
    "+ Show by induction that $\\{a_n\\}_{n\\in\\mathbb{N}}$ is an increasing sequence.\n",
    "+ Show by induction that $4$ is an upper bound of $\\{a_n\\}_{n\\in\\mathbb{N}}$.\n",
    "+ From the previous questions, can you conclude if the sequence converges or not? Explain why.\n",
    "+ Find the limit $L=\\lim_{n\\to \\infty} a_n$.\n",
    "\n",
    "_Solution_ : As for the first part, for the base case we have that $a_{2}=\\sqrt{5}>1=a_{1}$.  Now, we assume the hypothesis and see that \n",
    "$$\n",
    "a_{n+1} = \\sqrt{3+2a_{n}} > \\sqrt{3+2a_{n-1}} = a_{n},\n",
    "$$\n",
    "where the inequality comes from the inducitve hypothesis and using the fact that the function $f(x)=\\sqrt{x}$ is strictly increasing where it is defined.  Therefore, by induction we have shown that recursive sequence is increasing.  \n",
    "\n",
    "As for the second part, we have $a_{1}=1<4$, and assuming the hypothesis, we see that \n",
    "$$\n",
    "a_{n+1} = \\sqrt{3+2a_{n}}< \\sqrt{3+2\\times4} = \\sqrt{11}< \\sqrt{16} = 4.\n",
    "$$\n",
    "Therefore the bound holds by induction.\n",
    "\n",
    "Using the Monotone Convergence Theorem ensures that $\\lim_{n\\rightarrow \\infty}a_{n}$ exists.  Labeling this limit as $L$ and taking the limit of the recursive sequence itself, we see $L$ must satisfy the equation\n",
    "$$\n",
    "L = \\sqrt{3+2L}.\n",
    "$$\n",
    "Squaring both sides and reaggranging gives us $L^{2} - 2L - 3 = (L-3)(L+1) = 0$. Since $a_{n}$ is increasing, we see in this case that $L=3$."
   ]
  },
  {
   "cell_type": "code",
   "execution_count": null,
   "metadata": {},
   "outputs": [],
   "source": []
  }
 ],
 "metadata": {
  "kernelspec": {
   "display_name": "Python 3",
   "language": "python",
   "name": "python3"
  },
  "language_info": {
   "codemirror_mode": {
    "name": "ipython",
    "version": 3
   },
   "file_extension": ".py",
   "mimetype": "text/x-python",
   "name": "python",
   "nbconvert_exporter": "python",
   "pygments_lexer": "ipython3",
   "version": "3.7.6"
  }
 },
 "nbformat": 4,
 "nbformat_minor": 4
}
